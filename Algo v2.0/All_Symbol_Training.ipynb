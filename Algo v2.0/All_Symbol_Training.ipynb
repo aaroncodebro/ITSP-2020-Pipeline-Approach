{
  "nbformat": 4,
  "nbformat_minor": 0,
  "metadata": {
    "colab": {
      "name": "All Symbol Training",
      "provenance": []
    },
    "kernelspec": {
      "name": "python3",
      "display_name": "Python 3"
    },
    "accelerator": "GPU"
  },
  "cells": [
    {
      "cell_type": "code",
      "metadata": {
        "id": "SGrl6kd2an0g",
        "colab_type": "code",
        "colab": {
          "base_uri": "https://localhost:8080/",
          "height": 124
        },
        "outputId": "77fe8249-c112-462c-d34c-317b4d42dc09"
      },
      "source": [
        "from google.colab import drive\n",
        "drive.mount('/content/drive')"
      ],
      "execution_count": 1,
      "outputs": [
        {
          "output_type": "stream",
          "text": [
            "Go to this URL in a browser: https://accounts.google.com/o/oauth2/auth?client_id=947318989803-6bn6qk8qdgf4n4g3pfee6491hc0brc4i.apps.googleusercontent.com&redirect_uri=urn%3aietf%3awg%3aoauth%3a2.0%3aoob&response_type=code&scope=email%20https%3a%2f%2fwww.googleapis.com%2fauth%2fdocs.test%20https%3a%2f%2fwww.googleapis.com%2fauth%2fdrive%20https%3a%2f%2fwww.googleapis.com%2fauth%2fdrive.photos.readonly%20https%3a%2f%2fwww.googleapis.com%2fauth%2fpeopleapi.readonly\n",
            "\n",
            "Enter your authorization code:\n",
            "··········\n",
            "Mounted at /content/drive\n"
          ],
          "name": "stdout"
        }
      ]
    },
    {
      "cell_type": "code",
      "metadata": {
        "id": "S5qz2NSHawjy",
        "colab_type": "code",
        "colab": {}
      },
      "source": [
        "import zipfile\n",
        "\n",
        "with zipfile.ZipFile('/content/drive/My Drive/Images.zip') as z:\n",
        "  z.extractall('/content/Images')"
      ],
      "execution_count": 2,
      "outputs": []
    },
    {
      "cell_type": "code",
      "metadata": {
        "id": "x1eoBRmVz1zJ",
        "colab_type": "code",
        "colab": {}
      },
      "source": [
        "import os\n",
        "import sys\n",
        "import random\n",
        "import numpy as np\n",
        "import matplotlib.pyplot as plt"
      ],
      "execution_count": 3,
      "outputs": []
    },
    {
      "cell_type": "code",
      "metadata": {
        "id": "8jqovxi-lF26",
        "colab_type": "code",
        "colab": {}
      },
      "source": [
        "lowercase = os.listdir('/content/Images/Images/Lowercase')\n",
        "uppercase = os.listdir('/content/Images/Images/Uppercase')"
      ],
      "execution_count": 4,
      "outputs": []
    },
    {
      "cell_type": "code",
      "metadata": {
        "id": "6tS2XHKklaon",
        "colab_type": "code",
        "colab": {
          "base_uri": "https://localhost:8080/",
          "height": 35
        },
        "outputId": "4d9870b0-8328-4c82-eb72-d471fc0a5d00"
      },
      "source": [
        "len(lowercase)"
      ],
      "execution_count": 5,
      "outputs": [
        {
          "output_type": "execute_result",
          "data": {
            "text/plain": [
              "71"
            ]
          },
          "metadata": {
            "tags": []
          },
          "execution_count": 5
        }
      ]
    },
    {
      "cell_type": "code",
      "metadata": {
        "id": "VvWb5lEZljVW",
        "colab_type": "code",
        "colab": {
          "base_uri": "https://localhost:8080/",
          "height": 35
        },
        "outputId": "c66d81ba-79e4-40f1-fb2d-d52291e3a7df"
      },
      "source": [
        "len(uppercase)"
      ],
      "execution_count": 6,
      "outputs": [
        {
          "output_type": "execute_result",
          "data": {
            "text/plain": [
              "42"
            ]
          },
          "metadata": {
            "tags": []
          },
          "execution_count": 6
        }
      ]
    },
    {
      "cell_type": "code",
      "metadata": {
        "id": "ONZa3KuUA8gD",
        "colab_type": "code",
        "colab": {}
      },
      "source": [
        "try:\n",
        "  for id in lowercase:\n",
        "    if(id=='.DS_Store'):\n",
        "      continue\n",
        "    os.makedirs(os.path.join('/tmp/data/training/','l_'+'{}'.format(id)))\n",
        "    os.makedirs(os.path.join('/tmp/data/testing/','l_'+'{}'.format(id)))\n",
        "\n",
        "  for id in uppercase:\n",
        "    if(id=='.DS_Store'):\n",
        "      continue\n",
        "    os.makedirs(os.path.join('/tmp/data/training/','u_'+'{}'.format(id)))\n",
        "    os.makedirs(os.path.join('/tmp/data/testing/','u_'+'{}'.format(id)))\n",
        "except OSError:\n",
        "    pass"
      ],
      "execution_count": 7,
      "outputs": []
    },
    {
      "cell_type": "code",
      "metadata": {
        "id": "D3dHpLgJEiSq",
        "colab_type": "code",
        "colab": {}
      },
      "source": [
        "from shutil import copyfile\n",
        "def split_data(SOURCE, TRAINING, TESTING, SPLIT_SIZE):\n",
        "  img_list = os.listdir(SOURCE)\n",
        "  random.sample(img_list, len(img_list))\n",
        "  i=0\n",
        "    \n",
        "  while(1):\n",
        "    if(i<SPLIT_SIZE*len(img_list)):\n",
        "      img_path = os.path.join(SOURCE,img_list[i])\n",
        "      if(os.path.getsize(img_path)!=0):\n",
        "        copyfile(img_path,os.path.join(TRAINING,img_list[i]))\n",
        "        i+=1\n",
        "        continue\n",
        "            \n",
        "    if(i<len(img_list)):\n",
        "      img_path = os.path.join(SOURCE,img_list[i])\n",
        "      if(os.path.getsize(img_path)!=0):\n",
        "        copyfile(img_path,os.path.join(TESTING, img_list[i]))\n",
        "        i+=1\n",
        "        continue\n",
        "    break\n",
        "        \n",
        "        \n",
        "  \n",
        "LOWER_SOURCE_DIR = '/content/Images/Images/Lowercase'\n",
        "UPPER_SOURCE_DIR = '/content/Images/Images/Uppercase'\n",
        "TRAINING_DIR = '/tmp/data/training/'\n",
        "TESTING_DIR = '/tmp/data/testing/'\n",
        "\n",
        "split_size = 0.9\n",
        "for id in lowercase:\n",
        "  if(id=='.DS_Store'):\n",
        "      continue\n",
        "  try:\n",
        "    split_data(os.path.join(LOWER_SOURCE_DIR,'{}'.format(id)), os.path.join(TRAINING_DIR,'l_'+'{}'.format(id)), os.path.join(TESTING_DIR,'l_'+'{}'.format(id)), split_size)\n",
        "  except:\n",
        "    pass\n",
        "\n",
        "for id in uppercase:\n",
        "  if(id=='.DS_Store'):\n",
        "      continue\n",
        "  try:\n",
        "    split_data(os.path.join(UPPER_SOURCE_DIR,'{}'.format(id)), os.path.join(TRAINING_DIR,'u_'+'{}'.format(id)), os.path.join(TESTING_DIR,'u_'+'{}'.format(id)), split_size)\n",
        "  except:\n",
        "    pass\n"
      ],
      "execution_count": 8,
      "outputs": []
    },
    {
      "cell_type": "code",
      "metadata": {
        "id": "IPQOdmnII54S",
        "colab_type": "code",
        "colab": {
          "base_uri": "https://localhost:8080/",
          "height": 35
        },
        "outputId": "a8b246af-fc95-451d-c785-41a8c3c31577"
      },
      "source": [
        "len(os.listdir('/tmp/data/training/l_seven'))"
      ],
      "execution_count": 9,
      "outputs": [
        {
          "output_type": "execute_result",
          "data": {
            "text/plain": [
              "423"
            ]
          },
          "metadata": {
            "tags": []
          },
          "execution_count": 9
        }
      ]
    },
    {
      "cell_type": "code",
      "metadata": {
        "id": "nvg44lvTMb7C",
        "colab_type": "code",
        "colab": {
          "base_uri": "https://localhost:8080/",
          "height": 52
        },
        "outputId": "a943d0f8-50ee-426a-ebee-1b0fb6253d67"
      },
      "source": [
        "from tensorflow.keras.preprocessing.image import ImageDataGenerator\n",
        "train_datagen = ImageDataGenerator(rescale=1./255)\n",
        "\n",
        "train_generator = train_datagen.flow_from_directory(\n",
        "        TRAINING_DIR,  \n",
        "        target_size=(32, 32),\n",
        "        batch_size=32,\n",
        "        color_mode='grayscale',\n",
        "        class_mode='categorical')\n",
        "\n",
        "validation_datagen = ImageDataGenerator(rescale=1./255)\n",
        "\n",
        "validation_generator =  validation_datagen.flow_from_directory(TESTING_DIR,\n",
        "                                                         batch_size=32,\n",
        "                                                         class_mode  = 'categorical',\n",
        "                                                         color_mode = 'grayscale',\n",
        "                                                         target_size = (32, 32))"
      ],
      "execution_count": 10,
      "outputs": [
        {
          "output_type": "stream",
          "text": [
            "Found 47797 images belonging to 111 classes.\n",
            "Found 5255 images belonging to 111 classes.\n"
          ],
          "name": "stdout"
        }
      ]
    },
    {
      "cell_type": "code",
      "metadata": {
        "id": "Fzb45HMbzpF2",
        "colab_type": "code",
        "colab": {
          "base_uri": "https://localhost:8080/",
          "height": 35
        },
        "outputId": "621c74e4-5f95-4c57-946c-48547bb9e6d1"
      },
      "source": [
        "import numpy as np # linear algebra\n",
        "import pandas as pd # data processing, CSV file I/O (e.g. pd.read_csv)\n",
        "import tensorflow.keras.backend as K\n",
        "\n",
        "from sklearn.model_selection import train_test_split\n",
        "\n",
        "from keras import layers\n",
        "from keras.layers import Input, Conv2D, MaxPool2D, Dense, Dropout, Flatten, BatchNormalization, ZeroPadding2D, Activation\n",
        "from keras.models import Model\n",
        "from keras.models import Sequential\n",
        "from keras.optimizers import Adam\n",
        "from keras.utils.np_utils import to_categorical\n",
        "from keras.callbacks import ReduceLROnPlateau, EarlyStopping\n",
        "from tensorflow.python.client import device_lib"
      ],
      "execution_count": 11,
      "outputs": [
        {
          "output_type": "stream",
          "text": [
            "Using TensorFlow backend.\n"
          ],
          "name": "stderr"
        }
      ]
    },
    {
      "cell_type": "code",
      "metadata": {
        "id": "MplNTgJQzVRG",
        "colab_type": "code",
        "colab": {
          "base_uri": "https://localhost:8080/",
          "height": 765
        },
        "outputId": "36f3d97a-5b1e-4c33-efc9-d0d5493cf76d"
      },
      "source": [
        "model = Sequential()\n",
        "\n",
        "model.add(Conv2D(filters = 32, kernel_size = (5,5),padding = 'Same', \n",
        "                 activation ='relu', input_shape = (32,32,1)))\n",
        "model.add(BatchNormalization(axis = 3))\n",
        "model.add(Conv2D(filters = 32, kernel_size = (5,5),padding = 'Same', \n",
        "                 activation ='relu'))\n",
        "model.add(BatchNormalization(axis = 3))\n",
        "model.add(MaxPool2D(pool_size=(2,2)))\n",
        "model.add(Dropout(0.25))\n",
        "\n",
        "model.add(Conv2D(filters = 64, kernel_size = (3,3),padding = 'Same', \n",
        "                 activation ='relu'))\n",
        "model.add(BatchNormalization(axis = 3))\n",
        "model.add(Conv2D(filters = 64, kernel_size = (3,3),padding = 'Same', \n",
        "                 activation ='relu'))\n",
        "model.add(BatchNormalization(axis = 3))\n",
        "model.add(MaxPool2D(pool_size=(2,2), strides=(2,2)))\n",
        "model.add(Dropout(0.25))\n",
        "\n",
        "\n",
        "model.add(Flatten())\n",
        "model.add(Dense(1024, activation = \"relu\"))\n",
        "model.add(BatchNormalization(axis = 1))\n",
        "model.add(Dropout(0.5))\n",
        "model.add(Dense(111, activation = \"softmax\"))\n",
        "\n",
        "\n",
        "optimizer = Adam(learning_rate = 0.001)\n",
        "\n",
        "model.compile(optimizer = optimizer, loss = \"categorical_crossentropy\", metrics = [\"accuracy\"])\n",
        "\n",
        "lr_scheduler = ReduceLROnPlateau(monitor = 'loss', patience = 1, verbose = 1, factor = 0.1)\n",
        "\n",
        "early_stopper = EarlyStopping(monitor = 'loss', patience = 12, verbose = 1)\n",
        "\n",
        "history = model.fit_generator(train_generator, epochs = 20, validation_data=validation_generator, callbacks = [lr_scheduler, early_stopper])"
      ],
      "execution_count": 12,
      "outputs": [
        {
          "output_type": "stream",
          "text": [
            "Epoch 1/20\n",
            "1494/1494 [==============================] - 61s 41ms/step - loss: 0.3496 - accuracy: 0.9080 - val_loss: 0.0107 - val_accuracy: 0.9593\n",
            "Epoch 2/20\n",
            "1494/1494 [==============================] - 53s 36ms/step - loss: 0.1608 - accuracy: 0.9547 - val_loss: 0.0727 - val_accuracy: 0.9566\n",
            "Epoch 3/20\n",
            "1494/1494 [==============================] - 53s 36ms/step - loss: 0.1301 - accuracy: 0.9642 - val_loss: 5.2476e-04 - val_accuracy: 0.9732\n",
            "Epoch 4/20\n",
            "1494/1494 [==============================] - 53s 35ms/step - loss: 0.1216 - accuracy: 0.9670 - val_loss: 1.2908e-05 - val_accuracy: 0.9758\n",
            "Epoch 5/20\n",
            "1494/1494 [==============================] - 53s 35ms/step - loss: 0.1004 - accuracy: 0.9716 - val_loss: 0.1674 - val_accuracy: 0.9823\n",
            "Epoch 6/20\n",
            "1494/1494 [==============================] - 53s 35ms/step - loss: 0.0867 - accuracy: 0.9760 - val_loss: 3.0379e-05 - val_accuracy: 0.9823\n",
            "Epoch 7/20\n",
            "1494/1494 [==============================] - 53s 35ms/step - loss: 0.0775 - accuracy: 0.9785 - val_loss: 6.9227e-05 - val_accuracy: 0.9764\n",
            "Epoch 8/20\n",
            "1494/1494 [==============================] - 53s 35ms/step - loss: 0.0689 - accuracy: 0.9805 - val_loss: 8.3004e-04 - val_accuracy: 0.9873\n",
            "Epoch 9/20\n",
            "1494/1494 [==============================] - 53s 36ms/step - loss: 0.0593 - accuracy: 0.9832 - val_loss: 1.7030e-08 - val_accuracy: 0.9886\n",
            "Epoch 10/20\n",
            "1494/1494 [==============================] - 53s 36ms/step - loss: 0.0548 - accuracy: 0.9847 - val_loss: 0.6122 - val_accuracy: 0.9869\n",
            "Epoch 11/20\n",
            "1494/1494 [==============================] - 53s 35ms/step - loss: 0.0518 - accuracy: 0.9860 - val_loss: 0.0000e+00 - val_accuracy: 0.9886\n",
            "Epoch 12/20\n",
            "1494/1494 [==============================] - 53s 36ms/step - loss: 0.0421 - accuracy: 0.9879 - val_loss: 1.3113e-06 - val_accuracy: 0.9882\n",
            "Epoch 13/20\n",
            "1494/1494 [==============================] - 53s 35ms/step - loss: 0.0430 - accuracy: 0.9884 - val_loss: 7.5270e-06 - val_accuracy: 0.9886\n",
            "\n",
            "Epoch 00013: ReduceLROnPlateau reducing learning rate to 0.00010000000474974513.\n",
            "Epoch 14/20\n",
            "1494/1494 [==============================] - 53s 36ms/step - loss: 0.0225 - accuracy: 0.9933 - val_loss: 1.7030e-08 - val_accuracy: 0.9916\n",
            "Epoch 15/20\n",
            "1494/1494 [==============================] - 53s 35ms/step - loss: 0.0169 - accuracy: 0.9948 - val_loss: 3.8023e-05 - val_accuracy: 0.9930\n",
            "Epoch 16/20\n",
            "1494/1494 [==============================] - 53s 35ms/step - loss: 0.0131 - accuracy: 0.9958 - val_loss: 8.6694e-05 - val_accuracy: 0.9930\n",
            "Epoch 17/20\n",
            "1494/1494 [==============================] - 53s 35ms/step - loss: 0.0111 - accuracy: 0.9960 - val_loss: 1.1921e-07 - val_accuracy: 0.9931\n",
            "Epoch 18/20\n",
            "1494/1494 [==============================] - 53s 35ms/step - loss: 0.0105 - accuracy: 0.9966 - val_loss: 5.9737e-04 - val_accuracy: 0.9933\n",
            "Epoch 19/20\n",
            "1494/1494 [==============================] - 53s 35ms/step - loss: 0.0091 - accuracy: 0.9967 - val_loss: 7.7484e-06 - val_accuracy: 0.9930\n",
            "Epoch 20/20\n",
            "1494/1494 [==============================] - 53s 35ms/step - loss: 0.0087 - accuracy: 0.9967 - val_loss: 0.2006 - val_accuracy: 0.9930\n"
          ],
          "name": "stdout"
        }
      ]
    },
    {
      "cell_type": "code",
      "metadata": {
        "id": "X_x8x03b3Yg5",
        "colab_type": "code",
        "colab": {}
      },
      "source": [
        "model.save(\"all_sym_model.h5\")"
      ],
      "execution_count": 14,
      "outputs": []
    },
    {
      "cell_type": "code",
      "metadata": {
        "id": "I6ReaZH2bCmm",
        "colab_type": "code",
        "colab": {}
      },
      "source": [
        "labels = (train_generator.class_indices)"
      ],
      "execution_count": 15,
      "outputs": []
    },
    {
      "cell_type": "code",
      "metadata": {
        "id": "eT9bYEV_4xu2",
        "colab_type": "code",
        "colab": {
          "base_uri": "https://localhost:8080/",
          "height": 1000
        },
        "outputId": "fdbafb53-8f9c-4099-9bb7-39b2dcc362e1"
      },
      "source": [
        "labels"
      ],
      "execution_count": 16,
      "outputs": [
        {
          "output_type": "execute_result",
          "data": {
            "text/plain": [
              "{'l_a': 0,\n",
              " 'l_alpha': 1,\n",
              " 'l_b': 2,\n",
              " 'l_beta': 3,\n",
              " 'l_c': 4,\n",
              " 'l_d': 5,\n",
              " 'l_delta': 6,\n",
              " 'l_e': 7,\n",
              " 'l_epsilon': 8,\n",
              " 'l_eta': 9,\n",
              " 'l_f': 10,\n",
              " 'l_five': 11,\n",
              " 'l_four': 12,\n",
              " 'l_g': 13,\n",
              " 'l_gamma': 14,\n",
              " 'l_h': 15,\n",
              " 'l_i': 16,\n",
              " 'l_infty': 17,\n",
              " 'l_iota': 18,\n",
              " 'l_j': 19,\n",
              " 'l_k': 20,\n",
              " 'l_kappa': 21,\n",
              " 'l_l': 22,\n",
              " 'l_lambda': 23,\n",
              " 'l_lceil': 24,\n",
              " 'l_lfloor': 25,\n",
              " 'l_llcorner': 26,\n",
              " 'l_m': 27,\n",
              " 'l_minus': 28,\n",
              " 'l_mu': 29,\n",
              " 'l_n': 30,\n",
              " 'l_nabla': 31,\n",
              " 'l_nine': 32,\n",
              " 'l_nu': 33,\n",
              " 'l_o': 34,\n",
              " 'l_omega': 35,\n",
              " 'l_one': 36,\n",
              " 'l_p': 37,\n",
              " 'l_partial': 38,\n",
              " 'l_phi': 39,\n",
              " 'l_pi': 40,\n",
              " 'l_plus': 41,\n",
              " 'l_prime': 42,\n",
              " 'l_psi': 43,\n",
              " 'l_q': 44,\n",
              " 'l_r': 45,\n",
              " 'l_rangle': 46,\n",
              " 'l_rceil': 47,\n",
              " 'l_rfloor': 48,\n",
              " 'l_rho': 49,\n",
              " 'l_s': 50,\n",
              " 'l_section': 51,\n",
              " 'l_seven': 52,\n",
              " 'l_sigma': 53,\n",
              " 'l_six': 54,\n",
              " 'l_t': 55,\n",
              " 'l_tau': 56,\n",
              " 'l_theta': 57,\n",
              " 'l_three': 58,\n",
              " 'l_times': 59,\n",
              " 'l_two': 60,\n",
              " 'l_u': 61,\n",
              " 'l_v': 62,\n",
              " 'l_varphi': 63,\n",
              " 'l_w': 64,\n",
              " 'l_x': 65,\n",
              " 'l_y': 66,\n",
              " 'l_z': 67,\n",
              " 'l_zero': 68,\n",
              " 'l_zeta': 69,\n",
              " 'u_A': 70,\n",
              " 'u_B': 71,\n",
              " 'u_C': 72,\n",
              " 'u_D': 73,\n",
              " 'u_Delta': 74,\n",
              " 'u_E': 75,\n",
              " 'u_F': 76,\n",
              " 'u_G': 77,\n",
              " 'u_Gamma': 78,\n",
              " 'u_H': 79,\n",
              " 'u_I': 80,\n",
              " 'u_J': 81,\n",
              " 'u_K': 82,\n",
              " 'u_L': 83,\n",
              " 'u_Lambda': 84,\n",
              " 'u_LeftBrace': 85,\n",
              " 'u_LeftBracket': 86,\n",
              " 'u_LeftPar': 87,\n",
              " 'u_M': 88,\n",
              " 'u_N': 89,\n",
              " 'u_O': 90,\n",
              " 'u_Omega': 91,\n",
              " 'u_P': 92,\n",
              " 'u_Phi': 93,\n",
              " 'u_Pi': 94,\n",
              " 'u_Psi': 95,\n",
              " 'u_Q': 96,\n",
              " 'u_R': 97,\n",
              " 'u_RightBrace': 98,\n",
              " 'u_RightBracket': 99,\n",
              " 'u_RightPar': 100,\n",
              " 'u_S': 101,\n",
              " 'u_Sigma': 102,\n",
              " 'u_T': 103,\n",
              " 'u_Theta': 104,\n",
              " 'u_U': 105,\n",
              " 'u_V': 106,\n",
              " 'u_W': 107,\n",
              " 'u_X': 108,\n",
              " 'u_Y': 109,\n",
              " 'u_Z': 110}"
            ]
          },
          "metadata": {
            "tags": []
          },
          "execution_count": 16
        }
      ]
    },
    {
      "cell_type": "code",
      "metadata": {
        "id": "rkR7o_zV467l",
        "colab_type": "code",
        "colab": {}
      },
      "source": [
        "index_to_labels = dict((v,k) for k,v in labels.items())"
      ],
      "execution_count": 17,
      "outputs": []
    },
    {
      "cell_type": "code",
      "metadata": {
        "id": "w4YgwY_y9tYI",
        "colab_type": "code",
        "colab": {}
      },
      "source": [
        "import json\n",
        "\n",
        "with open('mappings.json', 'w') as fp:\n",
        "    json.dump(index_to_labels, fp)"
      ],
      "execution_count": 46,
      "outputs": []
    },
    {
      "cell_type": "code",
      "metadata": {
        "id": "YgZCUJ3p93mw",
        "colab_type": "code",
        "colab": {}
      },
      "source": [
        "with open('mappings.json', 'r') as fp:\n",
        "    mappings = json.load(fp)"
      ],
      "execution_count": 53,
      "outputs": []
    },
    {
      "cell_type": "code",
      "metadata": {
        "id": "5mdC-bgKTUUU",
        "colab_type": "code",
        "colab": {}
      },
      "source": [
        "from PIL import Image\n",
        "import cv2"
      ],
      "execution_count": 48,
      "outputs": []
    },
    {
      "cell_type": "code",
      "metadata": {
        "id": "H2NWlIhR5SfY",
        "colab_type": "code",
        "colab": {}
      },
      "source": [
        "test_img_path = '/content/Images/Images/Lowercase/x/0.png'"
      ],
      "execution_count": 49,
      "outputs": []
    },
    {
      "cell_type": "code",
      "metadata": {
        "id": "5ww5pwsT4QCy",
        "colab_type": "code",
        "colab": {}
      },
      "source": [
        "test_img = Image.open(test_img_path)\n",
        "test_img = test_img.convert('L')\n",
        "test_img = np.expand_dims(test_img, 2)\n",
        "test_img = cv2.resize(test_img,(32,32))"
      ],
      "execution_count": 40,
      "outputs": []
    },
    {
      "cell_type": "code",
      "metadata": {
        "id": "65K0721j5A8k",
        "colab_type": "code",
        "colab": {
          "base_uri": "https://localhost:8080/",
          "height": 266
        },
        "outputId": "4141d184-5322-4ffb-ce26-54071cb581d5"
      },
      "source": [
        "img = np.array(test_img)\n",
        "plt.imshow(img, cmap = 'gray')\n",
        "plt.show()"
      ],
      "execution_count": 41,
      "outputs": [
        {
          "output_type": "display_data",
          "data": {
            "image/png": "[encoded data removed]",
            "text/plain": [
              "<Figure size 432x288 with 1 Axes>"
            ]
          },
          "metadata": {
            "tags": [],
            "needs_background": "light"
          }
        }
      ]
    },
    {
      "cell_type": "code",
      "metadata": {
        "id": "T5cmC0uW6SEr",
        "colab_type": "code",
        "colab": {}
      },
      "source": [
        "test_img = np.expand_dims(test_img, 2)"
      ],
      "execution_count": 42,
      "outputs": []
    },
    {
      "cell_type": "code",
      "metadata": {
        "id": "jAgg4wny6eez",
        "colab_type": "code",
        "colab": {}
      },
      "source": [
        "test = np.zeros((1, 32, 32, 1), dtype = np.uint8)"
      ],
      "execution_count": 43,
      "outputs": []
    },
    {
      "cell_type": "code",
      "metadata": {
        "id": "nMhdnWpN61fW",
        "colab_type": "code",
        "colab": {}
      },
      "source": [
        "test[0] = test_img"
      ],
      "execution_count": 44,
      "outputs": []
    },
    {
      "cell_type": "code",
      "metadata": {
        "id": "-9DWDITv6E6O",
        "colab_type": "code",
        "colab": {
          "base_uri": "https://localhost:8080/",
          "height": 35
        },
        "outputId": "78856902-4bfd-4d49-db3e-1b83916f865b"
      },
      "source": [
        "mappings[str(np.argmax(model.predict(test)))]"
      ],
      "execution_count": 54,
      "outputs": [
        {
          "output_type": "execute_result",
          "data": {
            "text/plain": [
              "'l_x'"
            ]
          },
          "metadata": {
            "tags": []
          },
          "execution_count": 54
        }
      ]
    }
  ]
}