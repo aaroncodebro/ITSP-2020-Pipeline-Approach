{
  "nbformat": 4,
  "nbformat_minor": 0,
  "metadata": {
    "colab": {
      "name": "ITSP-All-Symbol-Training-v2.0.ipynb",
      "provenance": []
    },
    "kernelspec": {
      "name": "python3",
      "display_name": "Python 3"
    },
    "accelerator": "GPU"
  },
  "cells": [
    {
      "cell_type": "code",
      "metadata": {
        "id": "bRHPp3uXxdvx",
        "colab_type": "code",
        "colab": {
          "base_uri": "https://localhost:8080/",
          "height": 122
        },
        "outputId": "e16bfab4-27d7-414b-80cc-9452b7af9b01"
      },
      "source": [
        "from google.colab import drive\n",
        "drive.mount('/content/drive')"
      ],
      "execution_count": 1,
      "outputs": [
        {
          "output_type": "stream",
          "text": [
            "Go to this URL in a browser: https://accounts.google.com/o/oauth2/auth?client_id=947318989803-6bn6qk8qdgf4n4g3pfee6491hc0brc4i.apps.googleusercontent.com&redirect_uri=urn%3aietf%3awg%3aoauth%3a2.0%3aoob&response_type=code&scope=email%20https%3a%2f%2fwww.googleapis.com%2fauth%2fdocs.test%20https%3a%2f%2fwww.googleapis.com%2fauth%2fdrive%20https%3a%2f%2fwww.googleapis.com%2fauth%2fdrive.photos.readonly%20https%3a%2f%2fwww.googleapis.com%2fauth%2fpeopleapi.readonly\n",
            "\n",
            "Enter your authorization code:\n",
            "··········\n",
            "Mounted at /content/drive\n"
          ],
          "name": "stdout"
        }
      ]
    },
    {
      "cell_type": "code",
      "metadata": {
        "id": "4reJFlQJxvF2",
        "colab_type": "code",
        "colab": {}
      },
      "source": [
        "import zipfile\n",
        "\n",
        "with zipfile.ZipFile('/content/drive/My Drive/mega.zip') as z:\n",
        "  z.extractall('/content/mega')"
      ],
      "execution_count": 2,
      "outputs": []
    },
    {
      "cell_type": "code",
      "metadata": {
        "id": "U_ju-IjNxxFN",
        "colab_type": "code",
        "colab": {}
      },
      "source": [
        "import os\n",
        "import sys\n",
        "import random\n",
        "import numpy as np\n",
        "import matplotlib.pyplot as plt"
      ],
      "execution_count": 3,
      "outputs": []
    },
    {
      "cell_type": "code",
      "metadata": {
        "id": "hMxAsyrXxzW5",
        "colab_type": "code",
        "colab": {}
      },
      "source": [
        "imlist = os.listdir('/content/mega/Mega Data/')"
      ],
      "execution_count": 4,
      "outputs": []
    },
    {
      "cell_type": "code",
      "metadata": {
        "id": "HTh7GnCtx1Kg",
        "colab_type": "code",
        "colab": {
          "base_uri": "https://localhost:8080/",
          "height": 71
        },
        "outputId": "805c13f8-4318-42b4-9aa6-9a18af293673"
      },
      "source": [
        "print(imlist)\n",
        "print(len(imlist))"
      ],
      "execution_count": 7,
      "outputs": [
        {
          "output_type": "stream",
          "text": [
            "['zero', 'LeftBrace', 'RightPar', 'phi', 'seven', 'z', 'mu', 'Sigma', 'RightBrace', 'infty', 'theta', 'six', 'gamma', 'Delta', 'plus', 'c', 'minus', 'beta', 'Psi', 'zeta', 'pi', 'three', 'n', 's', 'alpha', 'LeftPar', 't', 'nine', 'Gamma_upper', 'y', 'a', 'four', 'l', 'Pi_upper', 'eight', 'two', 'e', 'five', 'partial', 'prime', 'g', 'x', 'nabla', '.DS_Store', 'omega', 'one']\n",
            "46\n"
          ],
          "name": "stdout"
        }
      ]
    },
    {
      "cell_type": "code",
      "metadata": {
        "id": "h9kJk_Bf7Vwa",
        "colab_type": "code",
        "colab": {
          "base_uri": "https://localhost:8080/",
          "height": 34
        },
        "outputId": "fa60f150-6602-4034-8fe7-70d6ec3248d9"
      },
      "source": [
        "TRAIN_PATH = '/content/mega/Mega Data/'\n",
        "train_dirs = next(os.walk(TRAIN_PATH))[1]\n",
        "\n",
        "total_imgs = 0\n",
        "\n",
        "for train_dir in train_dirs:\n",
        "\n",
        "  dir_path = TRAIN_PATH + train_dir\n",
        "  dir_files = next(os.walk(dir_path))[2]\n",
        "\n",
        "  for dir_file in dir_files:\n",
        "    \n",
        "    if dir_file == '.DS_Store':\n",
        "      continue\n",
        "       \n",
        "    total_imgs += 1\n",
        "\n",
        "print(total_imgs)"
      ],
      "execution_count": 8,
      "outputs": [
        {
          "output_type": "stream",
          "text": [
            "22707\n"
          ],
          "name": "stdout"
        }
      ]
    },
    {
      "cell_type": "code",
      "metadata": {
        "id": "4O_EC4Kv877j",
        "colab_type": "code",
        "colab": {
          "base_uri": "https://localhost:8080/",
          "height": 34
        },
        "outputId": "193b372f-f92b-4f68-82f6-01954b031754"
      },
      "source": [
        "import cv2\n",
        "\n",
        "from tqdm import tqdm\n",
        "\n",
        "X_train = np.zeros((total_imgs, 64, 64, 1), dtype = np.uint8)\n",
        "Y_train = np.zeros((total_imgs, 1))\n",
        "\n",
        "label_to_symbol_dict = {}\n",
        "\n",
        "label = 0\n",
        "index = 0\n",
        "for id_, train_dir in tqdm(enumerate(train_dirs), total = len(train_dirs)):\n",
        "\n",
        "  label_to_symbol_dict[label] = train_dir\n",
        "\n",
        "  dir_path = TRAIN_PATH + train_dir + '/'\n",
        "  dir_files = next(os.walk(dir_path))[2]\n",
        "\n",
        "  for dir_file in dir_files:\n",
        "\n",
        "    if dir_file == '.DS_Store':\n",
        "      continue\n",
        "\n",
        "    image_path = dir_path + dir_file\n",
        "    image = cv2.imread(image_path)\n",
        "    gray = cv2.cvtColor(image, cv2.COLOR_BGR2GRAY)\n",
        "    gray = cv2.resize(gray, (64, 64))\n",
        "\n",
        "    gray = np.expand_dims(gray, axis = 2)\n",
        "    X_train[index] = gray\n",
        "    Y_train[index] = label\n",
        "\n",
        "    index += 1\n",
        "\n",
        "  label += 1"
      ],
      "execution_count": 9,
      "outputs": [
        {
          "output_type": "stream",
          "text": [
            "100%|██████████| 45/45 [00:02<00:00, 18.39it/s]\n"
          ],
          "name": "stderr"
        }
      ]
    },
    {
      "cell_type": "code",
      "metadata": {
        "id": "KxvXbzk9ABpC",
        "colab_type": "code",
        "colab": {
          "base_uri": "https://localhost:8080/",
          "height": 302
        },
        "outputId": "eac97d4e-bc86-4019-8b0d-0836c6c83e4c"
      },
      "source": [
        "image_test = X_train[0].squeeze()\n",
        "print(image_test.shape)\n",
        "\n",
        "plt.imshow(image_test)"
      ],
      "execution_count": 10,
      "outputs": [
        {
          "output_type": "stream",
          "text": [
            "(64, 64)\n"
          ],
          "name": "stdout"
        },
        {
          "output_type": "execute_result",
          "data": {
            "text/plain": [
              "<matplotlib.image.AxesImage at 0x7fd7277e37f0>"
            ]
          },
          "metadata": {
            "tags": []
          },
          "execution_count": 10
        },
        {
          "output_type": "display_data",
          "data": {
            "image/png": "[encoded data removed]",
            "text/plain": [
              "<Figure size 432x288 with 1 Axes>"
            ]
          },
          "metadata": {
            "tags": [],
            "needs_background": "light"
          }
        }
      ]
    },
    {
      "cell_type": "code",
      "metadata": {
        "id": "Vfteq-E5Dlx3",
        "colab_type": "code",
        "colab": {
          "base_uri": "https://localhost:8080/",
          "height": 34
        },
        "outputId": "5c59c72d-79d3-434f-93c9-220374337f0e"
      },
      "source": [
        "print(Y_train[0])"
      ],
      "execution_count": 11,
      "outputs": [
        {
          "output_type": "stream",
          "text": [
            "[0.]\n"
          ],
          "name": "stdout"
        }
      ]
    },
    {
      "cell_type": "code",
      "metadata": {
        "id": "PqFZScbwDE5H",
        "colab_type": "code",
        "colab": {
          "base_uri": "https://localhost:8080/",
          "height": 34
        },
        "outputId": "858c0da0-91e8-4936-e7d4-f52b971f19f8"
      },
      "source": [
        "from tensorflow.keras.utils import to_categorical\n",
        "\n",
        "Y_train = to_categorical(Y_train, num_classes = 45)\n",
        "\n",
        "print(Y_train.shape)"
      ],
      "execution_count": 12,
      "outputs": [
        {
          "output_type": "stream",
          "text": [
            "(22707, 45)\n"
          ],
          "name": "stdout"
        }
      ]
    },
    {
      "cell_type": "code",
      "metadata": {
        "id": "usR-r6HWCbMz",
        "colab_type": "code",
        "colab": {}
      },
      "source": [
        "from sklearn.model_selection import train_test_split\n",
        "\n",
        "X_train, X_val, Y_train, Y_val = train_test_split(X_train, Y_train, test_size = 0.1, random_state = 42)"
      ],
      "execution_count": 13,
      "outputs": []
    },
    {
      "cell_type": "code",
      "metadata": {
        "id": "50dmK1qnyEc5",
        "colab_type": "code",
        "colab": {}
      },
      "source": [
        "import numpy as np # linear algebra\n",
        "import pandas as pd # data processing, CSV file I/O (e.g. pd.read_csv)\n",
        "\n",
        "from tensorflow.keras.layers import Conv2D, BatchNormalization, Dropout, MaxPool2D\n",
        "from tensorflow.keras.layers import Flatten, Dense\n",
        "from tensorflow.keras import Model\n",
        "from tensorflow.keras.optimizers import Adam\n",
        "from tensorflow.keras.models import Sequential"
      ],
      "execution_count": 15,
      "outputs": []
    },
    {
      "cell_type": "code",
      "metadata": {
        "id": "ihk5Jgh9yHGu",
        "colab_type": "code",
        "colab": {}
      },
      "source": [
        "model = Sequential()\n",
        "\n",
        "model.add(Conv2D(filters = 32, kernel_size = (3,3), padding = 'Same', \n",
        "                 activation ='relu', input_shape = (64,64,1)))\n",
        "model.add(BatchNormalization(axis = 3))\n",
        "model.add(Conv2D(filters = 32, kernel_size = (3,3), padding = 'Same', \n",
        "                 activation ='relu'))\n",
        "model.add(BatchNormalization(axis = 3))\n",
        "model.add(Dropout(0.25))\n",
        "\n",
        "model.add(Conv2D(filters = 32, kernel_size = (3,3), padding = 'Same', \n",
        "                 activation ='relu', input_shape = (64,64,1)))\n",
        "model.add(BatchNormalization(axis = 3))\n",
        "model.add(Conv2D(filters = 32, kernel_size = (3,3), padding = 'Same', \n",
        "                 activation ='relu'))\n",
        "model.add(BatchNormalization(axis = 3))\n",
        "model.add(Dropout(0.25))\n",
        "\n",
        "model.add(MaxPool2D(pool_size=(2,2)))\n",
        "\n",
        "\n",
        "model.add(Conv2D(filters = 64, kernel_size = (5,5), padding = 'Same', \n",
        "                 activation ='relu'))\n",
        "model.add(BatchNormalization(axis = 3))\n",
        "model.add(Conv2D(filters = 64, kernel_size = (5,5), padding = 'Same', \n",
        "                 activation ='relu'))\n",
        "model.add(BatchNormalization(axis = 3))\n",
        "model.add(Dropout(0.25))\n",
        "\n",
        "model.add(Conv2D(filters = 64, kernel_size = (5,5), padding = 'Same', \n",
        "                 activation ='relu'))\n",
        "model.add(BatchNormalization(axis = 3))\n",
        "model.add(Conv2D(filters = 64, kernel_size = (5,5), padding = 'Same', \n",
        "                 activation ='relu'))\n",
        "model.add(BatchNormalization(axis = 3))\n",
        "model.add(Dropout(0.25))\n",
        "\n",
        "model.add(MaxPool2D(pool_size=(2,2)))\n",
        "\n",
        "\n",
        "model.add(Conv2D(filters = 32, kernel_size = (3,3), padding = 'Same', \n",
        "                 activation ='relu'))\n",
        "model.add(BatchNormalization(axis = 3))\n",
        "model.add(Conv2D(filters = 32, kernel_size = (3,3), padding = 'Same', \n",
        "                 activation ='relu'))\n",
        "model.add(BatchNormalization(axis = 3))\n",
        "model.add(Dropout(0.25))\n",
        "\n",
        "model.add(Conv2D(filters = 32, kernel_size = (3,3), padding = 'Same', \n",
        "                 activation ='relu'))\n",
        "model.add(BatchNormalization(axis = 3))\n",
        "model.add(Conv2D(filters = 32, kernel_size = (3,3), padding = 'Same', \n",
        "                 activation ='relu'))\n",
        "model.add(BatchNormalization(axis = 3))\n",
        "model.add(Dropout(0.25))\n",
        "\n",
        "model.add(MaxPool2D(pool_size=(2,2)))\n",
        "\n",
        "\n",
        "model.add(Flatten())\n",
        "model.add(Dense(1024, activation = \"relu\"))\n",
        "model.add(BatchNormalization(axis = 1))\n",
        "model.add(Dropout(0.5))\n",
        "model.add(Dense(45, activation = \"softmax\"))"
      ],
      "execution_count": 20,
      "outputs": []
    },
    {
      "cell_type": "code",
      "metadata": {
        "id": "DsE49Tishi-m",
        "colab_type": "code",
        "colab": {
          "base_uri": "https://localhost:8080/",
          "height": 1000
        },
        "outputId": "0bd327a2-7bb4-4f79-d657-0a862fd913eb"
      },
      "source": [
        "model.summary()"
      ],
      "execution_count": 21,
      "outputs": [
        {
          "output_type": "stream",
          "text": [
            "Model: \"sequential_2\"\n",
            "_________________________________________________________________\n",
            "Layer (type)                 Output Shape              Param #   \n",
            "=================================================================\n",
            "conv2d_20 (Conv2D)           (None, 64, 64, 32)        320       \n",
            "_________________________________________________________________\n",
            "batch_normalization_22 (Batc (None, 64, 64, 32)        128       \n",
            "_________________________________________________________________\n",
            "conv2d_21 (Conv2D)           (None, 64, 64, 32)        9248      \n",
            "_________________________________________________________________\n",
            "batch_normalization_23 (Batc (None, 64, 64, 32)        128       \n",
            "_________________________________________________________________\n",
            "dropout_12 (Dropout)         (None, 64, 64, 32)        0         \n",
            "_________________________________________________________________\n",
            "conv2d_22 (Conv2D)           (None, 64, 64, 32)        9248      \n",
            "_________________________________________________________________\n",
            "batch_normalization_24 (Batc (None, 64, 64, 32)        128       \n",
            "_________________________________________________________________\n",
            "conv2d_23 (Conv2D)           (None, 64, 64, 32)        9248      \n",
            "_________________________________________________________________\n",
            "batch_normalization_25 (Batc (None, 64, 64, 32)        128       \n",
            "_________________________________________________________________\n",
            "dropout_13 (Dropout)         (None, 64, 64, 32)        0         \n",
            "_________________________________________________________________\n",
            "max_pooling2d_5 (MaxPooling2 (None, 32, 32, 32)        0         \n",
            "_________________________________________________________________\n",
            "conv2d_24 (Conv2D)           (None, 32, 32, 64)        51264     \n",
            "_________________________________________________________________\n",
            "batch_normalization_26 (Batc (None, 32, 32, 64)        256       \n",
            "_________________________________________________________________\n",
            "conv2d_25 (Conv2D)           (None, 32, 32, 64)        102464    \n",
            "_________________________________________________________________\n",
            "batch_normalization_27 (Batc (None, 32, 32, 64)        256       \n",
            "_________________________________________________________________\n",
            "dropout_14 (Dropout)         (None, 32, 32, 64)        0         \n",
            "_________________________________________________________________\n",
            "conv2d_26 (Conv2D)           (None, 32, 32, 64)        102464    \n",
            "_________________________________________________________________\n",
            "batch_normalization_28 (Batc (None, 32, 32, 64)        256       \n",
            "_________________________________________________________________\n",
            "conv2d_27 (Conv2D)           (None, 32, 32, 64)        102464    \n",
            "_________________________________________________________________\n",
            "batch_normalization_29 (Batc (None, 32, 32, 64)        256       \n",
            "_________________________________________________________________\n",
            "dropout_15 (Dropout)         (None, 32, 32, 64)        0         \n",
            "_________________________________________________________________\n",
            "max_pooling2d_6 (MaxPooling2 (None, 16, 16, 64)        0         \n",
            "_________________________________________________________________\n",
            "conv2d_28 (Conv2D)           (None, 16, 16, 32)        18464     \n",
            "_________________________________________________________________\n",
            "batch_normalization_30 (Batc (None, 16, 16, 32)        128       \n",
            "_________________________________________________________________\n",
            "conv2d_29 (Conv2D)           (None, 16, 16, 32)        9248      \n",
            "_________________________________________________________________\n",
            "batch_normalization_31 (Batc (None, 16, 16, 32)        128       \n",
            "_________________________________________________________________\n",
            "dropout_16 (Dropout)         (None, 16, 16, 32)        0         \n",
            "_________________________________________________________________\n",
            "conv2d_30 (Conv2D)           (None, 16, 16, 32)        9248      \n",
            "_________________________________________________________________\n",
            "batch_normalization_32 (Batc (None, 16, 16, 32)        128       \n",
            "_________________________________________________________________\n",
            "conv2d_31 (Conv2D)           (None, 16, 16, 32)        9248      \n",
            "_________________________________________________________________\n",
            "batch_normalization_33 (Batc (None, 16, 16, 32)        128       \n",
            "_________________________________________________________________\n",
            "dropout_17 (Dropout)         (None, 16, 16, 32)        0         \n",
            "_________________________________________________________________\n",
            "max_pooling2d_7 (MaxPooling2 (None, 8, 8, 32)          0         \n",
            "_________________________________________________________________\n",
            "flatten_2 (Flatten)          (None, 2048)              0         \n",
            "_________________________________________________________________\n",
            "dense_4 (Dense)              (None, 1024)              2098176   \n",
            "_________________________________________________________________\n",
            "batch_normalization_34 (Batc (None, 1024)              4096      \n",
            "_________________________________________________________________\n",
            "dropout_18 (Dropout)         (None, 1024)              0         \n",
            "_________________________________________________________________\n",
            "dense_5 (Dense)              (None, 45)                46125     \n",
            "=================================================================\n",
            "Total params: 2,583,373\n",
            "Trainable params: 2,580,301\n",
            "Non-trainable params: 3,072\n",
            "_________________________________________________________________\n"
          ],
          "name": "stdout"
        }
      ]
    },
    {
      "cell_type": "code",
      "metadata": {
        "id": "NPy0fNKh2V11",
        "colab_type": "code",
        "colab": {}
      },
      "source": [
        "from tensorflow.keras.callbacks import ReduceLROnPlateau, EarlyStopping"
      ],
      "execution_count": 22,
      "outputs": []
    },
    {
      "cell_type": "code",
      "metadata": {
        "id": "d6ftouA81KGe",
        "colab_type": "code",
        "colab": {
          "base_uri": "https://localhost:8080/",
          "height": 935
        },
        "outputId": "f037acec-50f5-49b1-9385-2a2bef3169ea"
      },
      "source": [
        "optimizer = Adam(learning_rate = 0.001)\n",
        "\n",
        "model.compile(optimizer = optimizer, loss = 'categorical_crossentropy', metrics = ['accuracy'])\n",
        "\n",
        "lr_scheduler = ReduceLROnPlateau(monitor = 'loss', patience = 1, verbose = 1, factor = 0.1)\n",
        "\n",
        "early_stopper = EarlyStopping(monitor = 'loss', patience = 12, verbose = 1)\n",
        "\n",
        "history = model.fit(x = X_train, y = Y_train, batch_size = 32, epochs = 20, validation_data = (X_val, Y_val), callbacks = [lr_scheduler, early_stopper], verbose = 2, validation_batch_size = 64)"
      ],
      "execution_count": 23,
      "outputs": [
        {
          "output_type": "stream",
          "text": [
            "Epoch 1/20\n",
            "639/639 - 54s - loss: 0.2602 - accuracy: 0.9336 - val_loss: 0.2534 - val_accuracy: 0.9212 - lr: 0.0010\n",
            "Epoch 2/20\n",
            "639/639 - 53s - loss: 0.0310 - accuracy: 0.9927 - val_loss: 0.1117 - val_accuracy: 0.9679 - lr: 0.0010\n",
            "Epoch 3/20\n",
            "639/639 - 53s - loss: 0.0243 - accuracy: 0.9943 - val_loss: 0.0683 - val_accuracy: 0.9819 - lr: 0.0010\n",
            "Epoch 4/20\n",
            "639/639 - 53s - loss: 0.0225 - accuracy: 0.9939 - val_loss: 0.0488 - val_accuracy: 0.9908 - lr: 0.0010\n",
            "Epoch 5/20\n",
            "639/639 - 53s - loss: 0.0221 - accuracy: 0.9941 - val_loss: 0.0287 - val_accuracy: 0.9916 - lr: 0.0010\n",
            "Epoch 6/20\n",
            "639/639 - 53s - loss: 0.0186 - accuracy: 0.9954 - val_loss: 0.0276 - val_accuracy: 0.9947 - lr: 0.0010\n",
            "Epoch 7/20\n",
            "\n",
            "Epoch 00007: ReduceLROnPlateau reducing learning rate to 0.00010000000474974513.\n",
            "639/639 - 53s - loss: 0.0207 - accuracy: 0.9946 - val_loss: 0.0214 - val_accuracy: 0.9938 - lr: 0.0010\n",
            "Epoch 8/20\n",
            "639/639 - 53s - loss: 0.0097 - accuracy: 0.9977 - val_loss: 0.0126 - val_accuracy: 0.9978 - lr: 1.0000e-04\n",
            "Epoch 9/20\n",
            "639/639 - 53s - loss: 0.0058 - accuracy: 0.9985 - val_loss: 0.0131 - val_accuracy: 0.9978 - lr: 1.0000e-04\n",
            "Epoch 10/20\n",
            "639/639 - 53s - loss: 0.0037 - accuracy: 0.9989 - val_loss: 0.0103 - val_accuracy: 0.9974 - lr: 1.0000e-04\n",
            "Epoch 11/20\n",
            "\n",
            "Epoch 00011: ReduceLROnPlateau reducing learning rate to 1.0000000474974514e-05.\n",
            "639/639 - 53s - loss: 0.0051 - accuracy: 0.9988 - val_loss: 0.0113 - val_accuracy: 0.9974 - lr: 1.0000e-04\n",
            "Epoch 12/20\n",
            "\n",
            "Epoch 00012: ReduceLROnPlateau reducing learning rate to 1.0000000656873453e-06.\n",
            "639/639 - 53s - loss: 0.0042 - accuracy: 0.9988 - val_loss: 0.0101 - val_accuracy: 0.9974 - lr: 1.0000e-05\n",
            "Epoch 13/20\n",
            "639/639 - 53s - loss: 0.0028 - accuracy: 0.9992 - val_loss: 0.0100 - val_accuracy: 0.9974 - lr: 1.0000e-06\n",
            "Epoch 14/20\n",
            "639/639 - 53s - loss: 0.0022 - accuracy: 0.9992 - val_loss: 0.0108 - val_accuracy: 0.9974 - lr: 1.0000e-06\n",
            "Epoch 15/20\n",
            "639/639 - 53s - loss: 0.0020 - accuracy: 0.9995 - val_loss: 0.0099 - val_accuracy: 0.9974 - lr: 1.0000e-06\n",
            "Epoch 16/20\n",
            "\n",
            "Epoch 00016: ReduceLROnPlateau reducing learning rate to 1.0000001111620805e-07.\n",
            "639/639 - 53s - loss: 0.0027 - accuracy: 0.9993 - val_loss: 0.0107 - val_accuracy: 0.9974 - lr: 1.0000e-06\n",
            "Epoch 17/20\n",
            "\n",
            "Epoch 00017: ReduceLROnPlateau reducing learning rate to 1.000000082740371e-08.\n",
            "639/639 - 53s - loss: 0.0028 - accuracy: 0.9992 - val_loss: 0.0114 - val_accuracy: 0.9974 - lr: 1.0000e-07\n",
            "Epoch 18/20\n",
            "\n",
            "Epoch 00018: ReduceLROnPlateau reducing learning rate to 1.000000082740371e-09.\n",
            "639/639 - 53s - loss: 0.0024 - accuracy: 0.9995 - val_loss: 0.0098 - val_accuracy: 0.9974 - lr: 1.0000e-08\n",
            "Epoch 19/20\n",
            "\n",
            "Epoch 00019: ReduceLROnPlateau reducing learning rate to 1.000000082740371e-10.\n",
            "639/639 - 53s - loss: 0.0024 - accuracy: 0.9996 - val_loss: 0.0097 - val_accuracy: 0.9974 - lr: 1.0000e-09\n",
            "Epoch 20/20\n",
            "639/639 - 53s - loss: 0.0018 - accuracy: 0.9994 - val_loss: 0.0109 - val_accuracy: 0.9974 - lr: 1.0000e-10\n"
          ],
          "name": "stdout"
        }
      ]
    },
    {
      "cell_type": "code",
      "metadata": {
        "id": "QxIpZMKV21lE",
        "colab_type": "code",
        "colab": {}
      },
      "source": [
        "model.save(\"monster_model.h5\")"
      ],
      "execution_count": 24,
      "outputs": []
    },
    {
      "cell_type": "code",
      "metadata": {
        "id": "q5fvuuYv2-i0",
        "colab_type": "code",
        "colab": {}
      },
      "source": [
        "import json\n",
        "\n",
        "with open('mappings_mega.json', 'w') as fp:\n",
        "    json.dump(label_to_symbol_dict, fp)"
      ],
      "execution_count": 25,
      "outputs": []
    },
    {
      "cell_type": "code",
      "metadata": {
        "id": "zcsrDGvM3CJP",
        "colab_type": "code",
        "colab": {}
      },
      "source": [
        "with open('mappings_mega.json', 'r') as fp:\n",
        "    mappings = json.load(fp)"
      ],
      "execution_count": 26,
      "outputs": []
    },
    {
      "cell_type": "code",
      "metadata": {
        "id": "B8EHxWR6FHNp",
        "colab_type": "code",
        "colab": {
          "base_uri": "https://localhost:8080/",
          "height": 54
        },
        "outputId": "c769e32d-0e91-4242-ea85-ca5bf732c0a8"
      },
      "source": [
        "print(mappings)"
      ],
      "execution_count": 27,
      "outputs": [
        {
          "output_type": "stream",
          "text": [
            "{'0': 'zero', '1': 'LeftBrace', '2': 'RightPar', '3': 'phi', '4': 'seven', '5': 'z', '6': 'mu', '7': 'Sigma', '8': 'RightBrace', '9': 'infty', '10': 'theta', '11': 'six', '12': 'gamma', '13': 'Delta', '14': 'plus', '15': 'c', '16': 'minus', '17': 'beta', '18': 'Psi', '19': 'zeta', '20': 'pi', '21': 'three', '22': 'n', '23': 's', '24': 'alpha', '25': 'LeftPar', '26': 't', '27': 'nine', '28': 'Gamma_upper', '29': 'y', '30': 'a', '31': 'four', '32': 'l', '33': 'Pi_upper', '34': 'eight', '35': 'two', '36': 'e', '37': 'five', '38': 'partial', '39': 'prime', '40': 'g', '41': 'x', '42': 'nabla', '43': 'omega', '44': 'one'}\n"
          ],
          "name": "stdout"
        }
      ]
    },
    {
      "cell_type": "code",
      "metadata": {
        "id": "1QozThyB3Eaj",
        "colab_type": "code",
        "colab": {
          "base_uri": "https://localhost:8080/",
          "height": 268
        },
        "outputId": "d3dd74f5-2919-478f-ee4a-e29b15f82b3e"
      },
      "source": [
        "#from PIL import Image\n",
        "\n",
        "test_img_path = '/content/mega/Mega Data/one/0.png'\n",
        "\n",
        "test_img = cv2.imread(test_img_path)\n",
        "test_img = cv2.cvtColor(test_img, cv2.COLOR_BGR2GRAY)\n",
        "test_img = np.array(test_img)\n",
        "test_img = cv2.resize(test_img,(64,64))\n",
        "\n",
        "img = np.array(test_img)\n",
        "plt.imshow(img, cmap = 'gray')\n",
        "plt.show()"
      ],
      "execution_count": 34,
      "outputs": [
        {
          "output_type": "display_data",
          "data": {
            "image/png": "[encoded data removed]",
            "text/plain": [
              "<Figure size 432x288 with 1 Axes>"
            ]
          },
          "metadata": {
            "tags": [],
            "needs_background": "light"
          }
        }
      ]
    },
    {
      "cell_type": "code",
      "metadata": {
        "id": "VaUdJJSq3K17",
        "colab_type": "code",
        "colab": {
          "base_uri": "https://localhost:8080/",
          "height": 34
        },
        "outputId": "8a992cda-0446-4636-fa7a-f2340ac1df98"
      },
      "source": [
        "print(test_img.shape)"
      ],
      "execution_count": 35,
      "outputs": [
        {
          "output_type": "stream",
          "text": [
            "(64, 64)\n"
          ],
          "name": "stdout"
        }
      ]
    },
    {
      "cell_type": "code",
      "metadata": {
        "id": "VUnw5MTw3XF0",
        "colab_type": "code",
        "colab": {}
      },
      "source": [
        "test_img = np.expand_dims(test_img, axis = 2)"
      ],
      "execution_count": 36,
      "outputs": []
    },
    {
      "cell_type": "code",
      "metadata": {
        "id": "ZjL-Qq4O3ffo",
        "colab_type": "code",
        "colab": {
          "base_uri": "https://localhost:8080/",
          "height": 34
        },
        "outputId": "41d54444-e1e7-46d2-ab7b-4f74df257342"
      },
      "source": [
        "print(test_img.shape)"
      ],
      "execution_count": 37,
      "outputs": [
        {
          "output_type": "stream",
          "text": [
            "(64, 64, 1)\n"
          ],
          "name": "stdout"
        }
      ]
    },
    {
      "cell_type": "code",
      "metadata": {
        "id": "ymmL-o383g5n",
        "colab_type": "code",
        "colab": {}
      },
      "source": [
        "test = np.zeros((1, 64, 64, 1), dtype = np.uint8)\n",
        "\n",
        "test[0] = test_img"
      ],
      "execution_count": 38,
      "outputs": []
    },
    {
      "cell_type": "code",
      "metadata": {
        "id": "IoqJaoez3oXd",
        "colab_type": "code",
        "colab": {
          "base_uri": "https://localhost:8080/",
          "height": 34
        },
        "outputId": "8002d6ec-bac3-40ea-fbdf-445d281f6d08"
      },
      "source": [
        "mappings[str(np.argmax(model.predict(test)))]"
      ],
      "execution_count": 39,
      "outputs": [
        {
          "output_type": "execute_result",
          "data": {
            "text/plain": [
              "'one'"
            ]
          },
          "metadata": {
            "tags": []
          },
          "execution_count": 39
        }
      ]
    }
  ]
}