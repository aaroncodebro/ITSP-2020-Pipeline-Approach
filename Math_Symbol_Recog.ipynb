{
  "nbformat": 4,
  "nbformat_minor": 0,
  "metadata": {
    "colab": {
      "name": "Math-Symbol-Recog.ipynb",
      "provenance": [],
      "collapsed_sections": []
    },
    "kernelspec": {
      "name": "python3",
      "display_name": "Python 3"
    },
    "accelerator": "GPU"
  },
  "cells": [
    {
      "cell_type": "code",
      "metadata": {
        "id": "SGrl6kd2an0g",
        "colab_type": "code",
        "outputId": "f54c76e8-7f06-4ccf-ddc3-671222616f9d",
        "colab": {
          "base_uri": "https://localhost:8080/",
          "height": 122
        }
      },
      "source": [
        "from google.colab import drive\n",
        "drive.mount('/content/drive')"
      ],
      "execution_count": 1,
      "outputs": [
        {
          "output_type": "stream",
          "text": [
            "Go to this URL in a browser: https://accounts.google.com/o/oauth2/auth?client_id=947318989803-6bn6qk8qdgf4n4g3pfee6491hc0brc4i.apps.googleusercontent.com&redirect_uri=urn%3aietf%3awg%3aoauth%3a2.0%3aoob&response_type=code&scope=email%20https%3a%2f%2fwww.googleapis.com%2fauth%2fdocs.test%20https%3a%2f%2fwww.googleapis.com%2fauth%2fdrive%20https%3a%2f%2fwww.googleapis.com%2fauth%2fdrive.photos.readonly%20https%3a%2f%2fwww.googleapis.com%2fauth%2fpeopleapi.readonly\n",
            "\n",
            "Enter your authorization code:\n",
            "··········\n",
            "Mounted at /content/drive\n"
          ],
          "name": "stdout"
        }
      ]
    },
    {
      "cell_type": "code",
      "metadata": {
        "id": "S5qz2NSHawjy",
        "colab_type": "code",
        "colab": {}
      },
      "source": [
        "import zipfile\n",
        "\n",
        "with zipfile.ZipFile('/content/drive/My Drive/extracted_images.zip') as z:\n",
        "  z.extractall('/content/drive/My Drive/extracted_images')"
      ],
      "execution_count": 0,
      "outputs": []
    },
    {
      "cell_type": "code",
      "metadata": {
        "id": "0WqSE062zDbC",
        "colab_type": "code",
        "outputId": "43e4a6e4-a60c-412a-97a2-a5513a8e1513",
        "colab": {
          "base_uri": "https://localhost:8080/",
          "height": 34
        }
      },
      "source": [
        "import torch\n",
        "device = torch.device('cuda' if torch.cuda.is_available() else 'cpu')\n",
        "print(device)"
      ],
      "execution_count": 1,
      "outputs": [
        {
          "output_type": "stream",
          "text": [
            "cuda\n"
          ],
          "name": "stdout"
        }
      ]
    },
    {
      "cell_type": "code",
      "metadata": {
        "id": "x1eoBRmVz1zJ",
        "colab_type": "code",
        "colab": {}
      },
      "source": [
        "import os\n",
        "import sys\n",
        "import random\n",
        "import numpy as np\n",
        "import matplotlib.pyplot as plt\n",
        "\n",
        "import torch.nn as nn\n",
        "import torch.nn.functional as F\n",
        "import torch.optim as optim\n",
        "import torchvision.transforms.functional as TF\n",
        "\n",
        "from tqdm import tqdm\n",
        "from torch.utils.data import TensorDataset, DataLoader\n",
        "from skimage.io import imread, imshow\n",
        "from sklearn.model_selection import train_test_split\n",
        "\n",
        "random_seed = 1"
      ],
      "execution_count": 0,
      "outputs": []
    },
    {
      "cell_type": "code",
      "metadata": {
        "id": "hJ52KV7O0Iwz",
        "colab_type": "code",
        "colab": {}
      },
      "source": [
        "sym_to_int_dict = {\n",
        "    '0': 0,\n",
        "    '1': 1,\n",
        "    '2': 2,\n",
        "    '3': 3,\n",
        "    '4': 4,\n",
        "    '5': 5,\n",
        "    '6': 6,\n",
        "    '7': 7,\n",
        "    '8': 8,\n",
        "    '9': 9,\n",
        "    'cos': 10,\n",
        "    'div': 11,\n",
        "    'infty': 12,\n",
        "    'int': 13,\n",
        "    'log': 14,\n",
        "    'pi': 15,\n",
        "    'sin': 16,\n",
        "    'sqrt': 17,\n",
        "    'tan': 18,\n",
        "    'x': 19,\n",
        "    'y': 20,\n",
        "    '-': 21,\n",
        "    '(': 22,\n",
        "    ')': 23,\n",
        "    '+': 24\n",
        "}"
      ],
      "execution_count": 0,
      "outputs": []
    },
    {
      "cell_type": "code",
      "metadata": {
        "id": "oaM0q1vw7QZK",
        "colab_type": "code",
        "outputId": "1568a8d3-7852-4068-af09-22059a45ea97",
        "colab": {
          "base_uri": "https://localhost:8080/",
          "height": 54
        }
      },
      "source": [
        "key_list = list(sym_to_int_dict.keys())\n",
        "print(key_list)"
      ],
      "execution_count": 4,
      "outputs": [
        {
          "output_type": "stream",
          "text": [
            "['0', '1', '2', '3', '4', '5', '6', '7', '8', '9', 'cos', 'div', 'infty', 'int', 'log', 'pi', 'sin', 'sqrt', 'tan', 'x', 'y', '-', '(', ')', '+']\n"
          ],
          "name": "stdout"
        }
      ]
    },
    {
      "cell_type": "code",
      "metadata": {
        "id": "wrNHRn7V33M7",
        "colab_type": "code",
        "colab": {}
      },
      "source": [
        "TRAIN_PATH = '/content/drive/My Drive/extracted_images/extracted_images/'\n",
        "train_files = next(os.walk(TRAIN_PATH))[1]"
      ],
      "execution_count": 0,
      "outputs": []
    },
    {
      "cell_type": "code",
      "metadata": {
        "id": "9PHL95Fqr6yk",
        "colab_type": "code",
        "colab": {}
      },
      "source": [
        "total_img = 0\n",
        "for id_ in train_files:\n",
        "  file_path = TRAIN_PATH + id_ + '/'\n",
        "  img_list = next(os.walk(file_path))[2]\n",
        "  for img_name in img_list:\n",
        "    total_img += 1"
      ],
      "execution_count": 0,
      "outputs": []
    },
    {
      "cell_type": "code",
      "metadata": {
        "id": "BCPMo_VYgsEH",
        "colab_type": "code",
        "outputId": "2ef2dde6-9686-47d1-9859-db5bf888a8fb",
        "colab": {
          "base_uri": "https://localhost:8080/",
          "height": 34
        }
      },
      "source": [
        "print(total_img)"
      ],
      "execution_count": 7,
      "outputs": [
        {
          "output_type": "stream",
          "text": [
            "54396\n"
          ],
          "name": "stdout"
        }
      ]
    },
    {
      "cell_type": "code",
      "metadata": {
        "id": "FKIrZKFc6Ih1",
        "colab_type": "code",
        "outputId": "503bb689-17cb-4ec0-997b-c2d0eb764f5a",
        "colab": {
          "base_uri": "https://localhost:8080/",
          "height": 68
        }
      },
      "source": [
        "X_train = np.zeros((total_img, 45, 45, 1), dtype = np.uint8)\n",
        "Y_train = np.zeros((total_img, 1), dtype = np.int32)\n",
        "\n",
        "print('Getting training data...')\n",
        "sys.stdout.flush()\n",
        "\n",
        "count = 0\n",
        "for n, id_ in tqdm(enumerate(train_files), total = len(train_files)):\n",
        "  label = -1\n",
        "  for i in key_list:\n",
        "    if id_ == i:\n",
        "      label = id_\n",
        "      break\n",
        "  \n",
        "  file_path = TRAIN_PATH + id_ + '/'\n",
        "  img_list = next(os.walk(file_path))[2]\n",
        "  for img_name in img_list:\n",
        "    img_path = file_path + img_name\n",
        "    img = imread(img_path)\n",
        "    img = np.expand_dims(img, 2)\n",
        "    X_train[count] = img\n",
        "    Y_train[count] = sym_to_int_dict[str(label)]\n",
        "    count += 1\n",
        "\n",
        "print('Done!')"
      ],
      "execution_count": 8,
      "outputs": [
        {
          "output_type": "stream",
          "text": [
            "Getting training data...\n"
          ],
          "name": "stdout"
        },
        {
          "output_type": "stream",
          "text": [
            "100%|██████████| 25/25 [01:32<00:00,  3.71s/it]"
          ],
          "name": "stderr"
        },
        {
          "output_type": "stream",
          "text": [
            "Done!\n"
          ],
          "name": "stdout"
        },
        {
          "output_type": "stream",
          "text": [
            "\n"
          ],
          "name": "stderr"
        }
      ]
    },
    {
      "cell_type": "code",
      "metadata": {
        "id": "yL8ZwRYUzso6",
        "colab_type": "code",
        "colab": {}
      },
      "source": [
        "train = torch.zeros((total_img, 1, 45, 45))\n",
        "label = torch.zeros((total_img, 1))\n",
        "for n in range(total_img):\n",
        "  img_tensor = TF.to_tensor(TF.to_pil_image(X_train[n]))\n",
        "  train[n] = img_tensor\n",
        "\n",
        "  label_tensor = torch.from_numpy(Y_train[n])\n",
        "  label[n] = label_tensor"
      ],
      "execution_count": 0,
      "outputs": []
    },
    {
      "cell_type": "code",
      "metadata": {
        "id": "c3lgbfZn9WsI",
        "colab_type": "code",
        "outputId": "edbf5921-fef4-4a87-f592-f13b4b220f11",
        "colab": {
          "base_uri": "https://localhost:8080/",
          "height": 51
        }
      },
      "source": [
        "print(train.shape)\n",
        "print(label.shape)"
      ],
      "execution_count": 10,
      "outputs": [
        {
          "output_type": "stream",
          "text": [
            "torch.Size([54396, 1, 45, 45])\n",
            "torch.Size([54396, 1])\n"
          ],
          "name": "stdout"
        }
      ]
    },
    {
      "cell_type": "code",
      "metadata": {
        "id": "_5hDflhitGf8",
        "colab_type": "code",
        "colab": {}
      },
      "source": [
        "train, test, label_train, label_test = train_test_split(train, label, test_size = 0.2, random_state = random_seed)"
      ],
      "execution_count": 0,
      "outputs": []
    },
    {
      "cell_type": "code",
      "metadata": {
        "id": "g1b6Qli9uyPF",
        "colab_type": "code",
        "outputId": "52f78347-1f05-4573-8a91-708e34f5b873",
        "colab": {
          "base_uri": "https://localhost:8080/",
          "height": 284
        }
      },
      "source": [
        "img = np.array(TF.to_pil_image(train[40000]))\n",
        "plt.imshow(img, cmap = 'gray')\n",
        "plt.show()\n",
        "\n",
        "print(label_train[40000])"
      ],
      "execution_count": 13,
      "outputs": [
        {
          "output_type": "display_data",
          "data": {
            "image/png": "[encoded data removed]",
            "text/plain": [
              "<Figure size 432x288 with 1 Axes>"
            ]
          },
          "metadata": {
            "tags": [],
            "needs_background": "light"
          }
        },
        {
          "output_type": "stream",
          "text": [
            "tensor([1.])\n"
          ],
          "name": "stdout"
        }
      ]
    },
    {
      "cell_type": "code",
      "metadata": {
        "id": "CLWX74OqcNtG",
        "colab_type": "code",
        "colab": {}
      },
      "source": [
        "train_dataset = TensorDataset(train, label_train)\n",
        "train_loader = DataLoader(train_dataset, batch_size = 128, shuffle = True)\n",
        "\n",
        "val_dataset = TensorDataset(test, label_test)\n",
        "val_loader = DataLoader(val_dataset, batch_size = 64, shuffle = True)"
      ],
      "execution_count": 0,
      "outputs": []
    },
    {
      "cell_type": "code",
      "metadata": {
        "id": "DGTSwnT3dIJe",
        "colab_type": "code",
        "colab": {}
      },
      "source": [
        "def conv_block(dropout, drop_val, in_channels, out_channels, *args, **kwargs):\n",
        "  if dropout:\n",
        "    return nn.Sequential(\n",
        "        nn.Conv2d(in_channels, out_channels, *args, **kwargs),\n",
        "        nn.BatchNorm2d(out_channels),\n",
        "        nn.Dropout2d(drop_val),\n",
        "        nn.ReLU()\n",
        "    )\n",
        "\n",
        "  else:\n",
        "    return nn.Sequential(\n",
        "        nn.Conv2d(in_channels, out_channels, *args, **kwargs),\n",
        "        nn.BatchNorm2d(out_channels),\n",
        "        nn.ReLU()\n",
        "    )"
      ],
      "execution_count": 0,
      "outputs": []
    },
    {
      "cell_type": "code",
      "metadata": {
        "id": "nj2wVukjbu6h",
        "colab_type": "code",
        "colab": {}
      },
      "source": [
        "class sym_rec(nn.Module):\n",
        "  def __init__(self):\n",
        "    super().__init__()\n",
        "\n",
        "    self.conv_layers = nn.Sequential(\n",
        "        conv_block(False, 0, 1, 32, kernel_size = (5, 5), stride = 1, padding = 2),\n",
        "        conv_block(True, 0.25, 32, 32, kernel_size = (5, 5), stride = 1, padding = 2),\n",
        "        nn.MaxPool2d(kernel_size = (2, 2)),\n",
        "        conv_block(False, 0, 32, 64, kernel_size = (5, 5), stride = 1, padding = 2),\n",
        "        conv_block(True, 0.25, 64, 64, kernel_size = (5, 5), stride = 1, padding = 2),\n",
        "        nn.MaxPool2d(kernel_size = (2, 2), stride = 2),\n",
        "        conv_block(False, 0, 64, 128, kernel_size = (3, 3), stride = 1, padding = 1),\n",
        "        conv_block(True, 0.25, 128, 128, kernel_size = (3, 3), stride = 1, padding = 1),\n",
        "        nn.MaxPool2d(kernel_size = (2, 2), stride = 2)\n",
        "    )\n",
        "\n",
        "    self.lin_layers = nn.Sequential(\n",
        "        nn.Linear(3200, 256),\n",
        "        nn.BatchNorm1d(256),\n",
        "        nn.Dropout(0.5),\n",
        "        nn.ReLU(),\n",
        "        nn.Linear(256, 25),\n",
        "        nn.Sigmoid()\n",
        "    )\n",
        "\n",
        "  def forward(self, x):\n",
        "\n",
        "    x = self.conv_layers(x)\n",
        "    \n",
        "    x = x.view(-1, 3200)\n",
        "\n",
        "    out = self.lin_layers(x)\n",
        "\n",
        "    return x"
      ],
      "execution_count": 0,
      "outputs": []
    },
    {
      "cell_type": "code",
      "metadata": {
        "id": "56tX3RqQtqTm",
        "colab_type": "code",
        "outputId": "13bfec58-3bca-4696-cd31-c551bc5e33cf",
        "colab": {
          "base_uri": "https://localhost:8080/",
          "height": 850
        }
      },
      "source": [
        "model = sym_rec()\n",
        "model = model.float()\n",
        "model = model.to(device)\n",
        "print(model)\n",
        "\n",
        "total_params = sum(p.numel() for p in model.parameters() if p.requires_grad)\n",
        "print(total_params)"
      ],
      "execution_count": 17,
      "outputs": [
        {
          "output_type": "stream",
          "text": [
            "sym_rec(\n",
            "  (conv_layers): Sequential(\n",
            "    (0): Sequential(\n",
            "      (0): Conv2d(1, 32, kernel_size=(5, 5), stride=(1, 1), padding=(2, 2))\n",
            "      (1): BatchNorm2d(32, eps=1e-05, momentum=0.1, affine=True, track_running_stats=True)\n",
            "      (2): ReLU()\n",
            "    )\n",
            "    (1): Sequential(\n",
            "      (0): Conv2d(32, 32, kernel_size=(5, 5), stride=(1, 1), padding=(2, 2))\n",
            "      (1): BatchNorm2d(32, eps=1e-05, momentum=0.1, affine=True, track_running_stats=True)\n",
            "      (2): Dropout2d(p=0.25, inplace=False)\n",
            "      (3): ReLU()\n",
            "    )\n",
            "    (2): MaxPool2d(kernel_size=(2, 2), stride=(2, 2), padding=0, dilation=1, ceil_mode=False)\n",
            "    (3): Sequential(\n",
            "      (0): Conv2d(32, 64, kernel_size=(5, 5), stride=(1, 1), padding=(2, 2))\n",
            "      (1): BatchNorm2d(64, eps=1e-05, momentum=0.1, affine=True, track_running_stats=True)\n",
            "      (2): ReLU()\n",
            "    )\n",
            "    (4): Sequential(\n",
            "      (0): Conv2d(64, 64, kernel_size=(5, 5), stride=(1, 1), padding=(2, 2))\n",
            "      (1): BatchNorm2d(64, eps=1e-05, momentum=0.1, affine=True, track_running_stats=True)\n",
            "      (2): Dropout2d(p=0.25, inplace=False)\n",
            "      (3): ReLU()\n",
            "    )\n",
            "    (5): MaxPool2d(kernel_size=(2, 2), stride=2, padding=0, dilation=1, ceil_mode=False)\n",
            "    (6): Sequential(\n",
            "      (0): Conv2d(64, 128, kernel_size=(3, 3), stride=(1, 1), padding=(1, 1))\n",
            "      (1): BatchNorm2d(128, eps=1e-05, momentum=0.1, affine=True, track_running_stats=True)\n",
            "      (2): ReLU()\n",
            "    )\n",
            "    (7): Sequential(\n",
            "      (0): Conv2d(128, 128, kernel_size=(3, 3), stride=(1, 1), padding=(1, 1))\n",
            "      (1): BatchNorm2d(128, eps=1e-05, momentum=0.1, affine=True, track_running_stats=True)\n",
            "      (2): Dropout2d(p=0.25, inplace=False)\n",
            "      (3): ReLU()\n",
            "    )\n",
            "    (8): MaxPool2d(kernel_size=(2, 2), stride=2, padding=0, dilation=1, ceil_mode=False)\n",
            "  )\n",
            "  (lin_layers): Sequential(\n",
            "    (0): Linear(in_features=3200, out_features=256, bias=True)\n",
            "    (1): BatchNorm1d(256, eps=1e-05, momentum=0.1, affine=True, track_running_stats=True)\n",
            "    (2): Dropout(p=0.5, inplace=False)\n",
            "    (3): ReLU()\n",
            "    (4): Linear(in_features=256, out_features=25, bias=True)\n",
            "    (5): Sigmoid()\n",
            "  )\n",
            ")\n",
            "1228921\n"
          ],
          "name": "stdout"
        }
      ]
    },
    {
      "cell_type": "code",
      "metadata": {
        "id": "5PyRzMlbiJY4",
        "colab_type": "code",
        "colab": {}
      },
      "source": [
        "opt = optim.Adam(model.parameters(), lr = 0.001)\n",
        "lr_scheduler = optim.lr_scheduler.ReduceLROnPlateau(opt, patience = 1, verbose = True)\n",
        "loss_func = nn.CrossEntropyLoss()"
      ],
      "execution_count": 0,
      "outputs": []
    },
    {
      "cell_type": "code",
      "metadata": {
        "id": "dZIV5CPdt_S_",
        "colab_type": "code",
        "colab": {}
      },
      "source": [
        "def fit(model, epochs, opt, loss_func, train_loader, valid_loader):\n",
        "\n",
        "    for epoch in range(epochs):\n",
        "        #Going into training mode\n",
        "        model.train()\n",
        "        \n",
        "        train_loss = 0\n",
        "        train_acc = 0\n",
        "       \n",
        "        for xb, yb in train_loader:\n",
        "            xb = xb.to(device)   #Passing the input mini-batch to the GPU\n",
        "            yb = yb.to(device)   #Passing the label mini-batch to the GPU\n",
        "            yb = yb.long()\n",
        "            opt.zero_grad()      #Setting the grads to zero to avoid accumulation of gradients\n",
        "            out = model(xb.float())\n",
        "            loss = loss_func(out, yb.squeeze())    #Squeezing yb so it has dimensions (minibatch_size,)\n",
        "            train_loss += loss\n",
        "            train_pred = torch.argmax(out, dim = 1)\n",
        "            train_pred = train_pred.reshape(train_pred.size()[0], 1) #Setting train_pred to have shape (minibatch_size, 1)\n",
        "            train_acc += (train_pred == yb).float().mean()\n",
        "            \n",
        "            loss.backward()\n",
        "            opt.step()\n",
        "        \n",
        "        lr_scheduler.step(train_loss/len(train_loader))   #Setting up lr decay  \n",
        "        \n",
        "        model.eval()            #Going into eval mode                            \n",
        "        with torch.no_grad():   #No backprop\n",
        "            valid_loss = 0\n",
        "            valid_acc = 0\n",
        "            \n",
        "            for xb, yb in valid_loader:\n",
        "                xb = xb.to(device)  \n",
        "                yb = yb.to(device)\n",
        "                yb = yb.long()\n",
        "                cv_out = model(xb.float())\n",
        "                valid_loss += loss_func(cv_out, yb.squeeze())\n",
        "                valid_pred = torch.argmax(cv_out, dim = 1)\n",
        "                valid_pred = valid_pred.reshape(valid_pred.size()[0], 1)\n",
        "                valid_acc += (valid_pred == yb).float().mean()\n",
        "        \n",
        "        print(\"Epoch \", epoch, \" Training Loss: \", train_loss/len(train_loader), \"CV Loss: \", valid_loss/len(valid_loader))\n",
        "        print(\"Training Acc: \", train_acc/len(train_loader), \"CV Acc: \", valid_acc/len(valid_loader))"
      ],
      "execution_count": 0,
      "outputs": []
    },
    {
      "cell_type": "code",
      "metadata": {
        "id": "r9HXV6aEv8ey",
        "colab_type": "code",
        "outputId": "93be5cff-45eb-4620-b846-f4970c13db7f",
        "colab": {
          "base_uri": "https://localhost:8080/",
          "height": 1000
        }
      },
      "source": [
        "fit(model, 150, opt, loss_func, train_loader, val_loader)"
      ],
      "execution_count": 20,
      "outputs": [
        {
          "output_type": "stream",
          "text": [
            "Epoch  0  Training Loss:  tensor(3.6556, device='cuda:0', grad_fn=<DivBackward0>) CV Loss:  tensor(1.6046, device='cuda:0')\n",
            "Training Acc:  tensor(0.4779, device='cuda:0') CV Acc:  tensor(0.7904, device='cuda:0')\n",
            "Epoch  1  Training Loss:  tensor(2.7125, device='cuda:0', grad_fn=<DivBackward0>) CV Loss:  tensor(1.0259, device='cuda:0')\n",
            "Training Acc:  tensor(0.6048, device='cuda:0') CV Acc:  tensor(0.8598, device='cuda:0')\n",
            "Epoch  2  Training Loss:  tensor(2.4909, device='cuda:0', grad_fn=<DivBackward0>) CV Loss:  tensor(1.6700, device='cuda:0')\n",
            "Training Acc:  tensor(0.6387, device='cuda:0') CV Acc:  tensor(0.6752, device='cuda:0')\n",
            "Epoch  3  Training Loss:  tensor(2.3923, device='cuda:0', grad_fn=<DivBackward0>) CV Loss:  tensor(1.7648, device='cuda:0')\n",
            "Training Acc:  tensor(0.6543, device='cuda:0') CV Acc:  tensor(0.6745, device='cuda:0')\n",
            "Epoch  4  Training Loss:  tensor(2.3675, device='cuda:0', grad_fn=<DivBackward0>) CV Loss:  tensor(0.6300, device='cuda:0')\n",
            "Training Acc:  tensor(0.6641, device='cuda:0') CV Acc:  tensor(0.8898, device='cuda:0')\n",
            "Epoch  5  Training Loss:  tensor(2.3228, device='cuda:0', grad_fn=<DivBackward0>) CV Loss:  tensor(0.7298, device='cuda:0')\n",
            "Training Acc:  tensor(0.6723, device='cuda:0') CV Acc:  tensor(0.8603, device='cuda:0')\n",
            "Epoch  6  Training Loss:  tensor(2.2841, device='cuda:0', grad_fn=<DivBackward0>) CV Loss:  tensor(0.4825, device='cuda:0')\n",
            "Training Acc:  tensor(0.6773, device='cuda:0') CV Acc:  tensor(0.9153, device='cuda:0')\n",
            "Epoch  7  Training Loss:  tensor(2.2934, device='cuda:0', grad_fn=<DivBackward0>) CV Loss:  tensor(0.6273, device='cuda:0')\n",
            "Training Acc:  tensor(0.6793, device='cuda:0') CV Acc:  tensor(0.8549, device='cuda:0')\n",
            "Epoch  8  Training Loss:  tensor(2.2639, device='cuda:0', grad_fn=<DivBackward0>) CV Loss:  tensor(0.4146, device='cuda:0')\n",
            "Training Acc:  tensor(0.6834, device='cuda:0') CV Acc:  tensor(0.9239, device='cuda:0')\n",
            "Epoch  9  Training Loss:  tensor(2.2135, device='cuda:0', grad_fn=<DivBackward0>) CV Loss:  tensor(0.3785, device='cuda:0')\n",
            "Training Acc:  tensor(0.6917, device='cuda:0') CV Acc:  tensor(0.9212, device='cuda:0')\n",
            "Epoch  10  Training Loss:  tensor(2.2315, device='cuda:0', grad_fn=<DivBackward0>) CV Loss:  tensor(0.3581, device='cuda:0')\n",
            "Training Acc:  tensor(0.6909, device='cuda:0') CV Acc:  tensor(0.9235, device='cuda:0')\n",
            "Epoch    12: reducing learning rate of group 0 to 1.0000e-04.\n",
            "Epoch  11  Training Loss:  tensor(2.2343, device='cuda:0', grad_fn=<DivBackward0>) CV Loss:  tensor(0.5602, device='cuda:0')\n",
            "Training Acc:  tensor(0.6908, device='cuda:0') CV Acc:  tensor(0.8598, device='cuda:0')\n",
            "Epoch  12  Training Loss:  tensor(2.1623, device='cuda:0', grad_fn=<DivBackward0>) CV Loss:  tensor(0.2580, device='cuda:0')\n",
            "Training Acc:  tensor(0.7069, device='cuda:0') CV Acc:  tensor(0.9401, device='cuda:0')\n",
            "Epoch  13  Training Loss:  tensor(2.1659, device='cuda:0', grad_fn=<DivBackward0>) CV Loss:  tensor(0.2546, device='cuda:0')\n",
            "Training Acc:  tensor(0.7100, device='cuda:0') CV Acc:  tensor(0.9430, device='cuda:0')\n",
            "Epoch  14  Training Loss:  tensor(2.1483, device='cuda:0', grad_fn=<DivBackward0>) CV Loss:  tensor(0.2450, device='cuda:0')\n",
            "Training Acc:  tensor(0.7118, device='cuda:0') CV Acc:  tensor(0.9441, device='cuda:0')\n",
            "Epoch  15  Training Loss:  tensor(2.1211, device='cuda:0', grad_fn=<DivBackward0>) CV Loss:  tensor(0.2400, device='cuda:0')\n",
            "Training Acc:  tensor(0.7159, device='cuda:0') CV Acc:  tensor(0.9460, device='cuda:0')\n",
            "Epoch  16  Training Loss:  tensor(2.1721, device='cuda:0', grad_fn=<DivBackward0>) CV Loss:  tensor(0.2344, device='cuda:0')\n",
            "Training Acc:  tensor(0.7097, device='cuda:0') CV Acc:  tensor(0.9455, device='cuda:0')\n",
            "Epoch    18: reducing learning rate of group 0 to 1.0000e-05.\n",
            "Epoch  17  Training Loss:  tensor(2.1346, device='cuda:0', grad_fn=<DivBackward0>) CV Loss:  tensor(0.2328, device='cuda:0')\n",
            "Training Acc:  tensor(0.7142, device='cuda:0') CV Acc:  tensor(0.9468, device='cuda:0')\n",
            "Epoch  18  Training Loss:  tensor(2.1549, device='cuda:0', grad_fn=<DivBackward0>) CV Loss:  tensor(0.2317, device='cuda:0')\n",
            "Training Acc:  tensor(0.7138, device='cuda:0') CV Acc:  tensor(0.9473, device='cuda:0')\n",
            "Epoch    20: reducing learning rate of group 0 to 1.0000e-06.\n",
            "Epoch  19  Training Loss:  tensor(2.1561, device='cuda:0', grad_fn=<DivBackward0>) CV Loss:  tensor(0.2307, device='cuda:0')\n",
            "Training Acc:  tensor(0.7139, device='cuda:0') CV Acc:  tensor(0.9478, device='cuda:0')\n",
            "Epoch  20  Training Loss:  tensor(2.1354, device='cuda:0', grad_fn=<DivBackward0>) CV Loss:  tensor(0.2307, device='cuda:0')\n",
            "Training Acc:  tensor(0.7161, device='cuda:0') CV Acc:  tensor(0.9477, device='cuda:0')\n",
            "Epoch    22: reducing learning rate of group 0 to 1.0000e-07.\n",
            "Epoch  21  Training Loss:  tensor(2.1496, device='cuda:0', grad_fn=<DivBackward0>) CV Loss:  tensor(0.2289, device='cuda:0')\n",
            "Training Acc:  tensor(0.7153, device='cuda:0') CV Acc:  tensor(0.9477, device='cuda:0')\n",
            "Epoch  22  Training Loss:  tensor(2.1303, device='cuda:0', grad_fn=<DivBackward0>) CV Loss:  tensor(0.2284, device='cuda:0')\n",
            "Training Acc:  tensor(0.7173, device='cuda:0') CV Acc:  tensor(0.9476, device='cuda:0')\n",
            "Epoch    24: reducing learning rate of group 0 to 1.0000e-08.\n",
            "Epoch  23  Training Loss:  tensor(2.1360, device='cuda:0', grad_fn=<DivBackward0>) CV Loss:  tensor(0.2299, device='cuda:0')\n",
            "Training Acc:  tensor(0.7167, device='cuda:0') CV Acc:  tensor(0.9480, device='cuda:0')\n",
            "Epoch  24  Training Loss:  tensor(2.1243, device='cuda:0', grad_fn=<DivBackward0>) CV Loss:  tensor(0.2305, device='cuda:0')\n",
            "Training Acc:  tensor(0.7176, device='cuda:0') CV Acc:  tensor(0.9479, device='cuda:0')\n",
            "Epoch  25  Training Loss:  tensor(2.1582, device='cuda:0', grad_fn=<DivBackward0>) CV Loss:  tensor(0.2299, device='cuda:0')\n",
            "Training Acc:  tensor(0.7132, device='cuda:0') CV Acc:  tensor(0.9479, device='cuda:0')\n",
            "Epoch  26  Training Loss:  tensor(2.1412, device='cuda:0', grad_fn=<DivBackward0>) CV Loss:  tensor(0.2309, device='cuda:0')\n",
            "Training Acc:  tensor(0.7150, device='cuda:0') CV Acc:  tensor(0.9480, device='cuda:0')\n",
            "Epoch  27  Training Loss:  tensor(2.1223, device='cuda:0', grad_fn=<DivBackward0>) CV Loss:  tensor(0.2299, device='cuda:0')\n",
            "Training Acc:  tensor(0.7186, device='cuda:0') CV Acc:  tensor(0.9478, device='cuda:0')\n",
            "Epoch  28  Training Loss:  tensor(2.1128, device='cuda:0', grad_fn=<DivBackward0>) CV Loss:  tensor(0.2281, device='cuda:0')\n",
            "Training Acc:  tensor(0.7182, device='cuda:0') CV Acc:  tensor(0.9477, device='cuda:0')\n",
            "Epoch  29  Training Loss:  tensor(2.1539, device='cuda:0', grad_fn=<DivBackward0>) CV Loss:  tensor(0.2300, device='cuda:0')\n",
            "Training Acc:  tensor(0.7147, device='cuda:0') CV Acc:  tensor(0.9476, device='cuda:0')\n",
            "Epoch  30  Training Loss:  tensor(2.1355, device='cuda:0', grad_fn=<DivBackward0>) CV Loss:  tensor(0.2297, device='cuda:0')\n",
            "Training Acc:  tensor(0.7169, device='cuda:0') CV Acc:  tensor(0.9479, device='cuda:0')\n",
            "Epoch  31  Training Loss:  tensor(2.1514, device='cuda:0', grad_fn=<DivBackward0>) CV Loss:  tensor(0.2294, device='cuda:0')\n",
            "Training Acc:  tensor(0.7138, device='cuda:0') CV Acc:  tensor(0.9478, device='cuda:0')\n",
            "Epoch  32  Training Loss:  tensor(2.1268, device='cuda:0', grad_fn=<DivBackward0>) CV Loss:  tensor(0.2308, device='cuda:0')\n",
            "Training Acc:  tensor(0.7168, device='cuda:0') CV Acc:  tensor(0.9477, device='cuda:0')\n",
            "Epoch  33  Training Loss:  tensor(2.1344, device='cuda:0', grad_fn=<DivBackward0>) CV Loss:  tensor(0.2299, device='cuda:0')\n",
            "Training Acc:  tensor(0.7170, device='cuda:0') CV Acc:  tensor(0.9477, device='cuda:0')\n",
            "Epoch  34  Training Loss:  tensor(2.1176, device='cuda:0', grad_fn=<DivBackward0>) CV Loss:  tensor(0.2305, device='cuda:0')\n",
            "Training Acc:  tensor(0.7189, device='cuda:0') CV Acc:  tensor(0.9476, device='cuda:0')\n",
            "Epoch  35  Training Loss:  tensor(2.1239, device='cuda:0', grad_fn=<DivBackward0>) CV Loss:  tensor(0.2322, device='cuda:0')\n",
            "Training Acc:  tensor(0.7175, device='cuda:0') CV Acc:  tensor(0.9476, device='cuda:0')\n",
            "Epoch  36  Training Loss:  tensor(2.1264, device='cuda:0', grad_fn=<DivBackward0>) CV Loss:  tensor(0.2292, device='cuda:0')\n",
            "Training Acc:  tensor(0.7176, device='cuda:0') CV Acc:  tensor(0.9476, device='cuda:0')\n",
            "Epoch  37  Training Loss:  tensor(2.1321, device='cuda:0', grad_fn=<DivBackward0>) CV Loss:  tensor(0.2287, device='cuda:0')\n",
            "Training Acc:  tensor(0.7160, device='cuda:0') CV Acc:  tensor(0.9474, device='cuda:0')\n",
            "Epoch  38  Training Loss:  tensor(2.1261, device='cuda:0', grad_fn=<DivBackward0>) CV Loss:  tensor(0.2293, device='cuda:0')\n",
            "Training Acc:  tensor(0.7165, device='cuda:0') CV Acc:  tensor(0.9476, device='cuda:0')\n",
            "Epoch  39  Training Loss:  tensor(2.1602, device='cuda:0', grad_fn=<DivBackward0>) CV Loss:  tensor(0.2288, device='cuda:0')\n",
            "Training Acc:  tensor(0.7136, device='cuda:0') CV Acc:  tensor(0.9476, device='cuda:0')\n",
            "Epoch  40  Training Loss:  tensor(2.1246, device='cuda:0', grad_fn=<DivBackward0>) CV Loss:  tensor(0.2300, device='cuda:0')\n",
            "Training Acc:  tensor(0.7172, device='cuda:0') CV Acc:  tensor(0.9478, device='cuda:0')\n",
            "Epoch  41  Training Loss:  tensor(2.1460, device='cuda:0', grad_fn=<DivBackward0>) CV Loss:  tensor(0.2280, device='cuda:0')\n",
            "Training Acc:  tensor(0.7153, device='cuda:0') CV Acc:  tensor(0.9480, device='cuda:0')\n",
            "Epoch  42  Training Loss:  tensor(2.1399, device='cuda:0', grad_fn=<DivBackward0>) CV Loss:  tensor(0.2306, device='cuda:0')\n",
            "Training Acc:  tensor(0.7154, device='cuda:0') CV Acc:  tensor(0.9476, device='cuda:0')\n",
            "Epoch  43  Training Loss:  tensor(2.1277, device='cuda:0', grad_fn=<DivBackward0>) CV Loss:  tensor(0.2300, device='cuda:0')\n",
            "Training Acc:  tensor(0.7171, device='cuda:0') CV Acc:  tensor(0.9479, device='cuda:0')\n",
            "Epoch  44  Training Loss:  tensor(2.1332, device='cuda:0', grad_fn=<DivBackward0>) CV Loss:  tensor(0.2306, device='cuda:0')\n",
            "Training Acc:  tensor(0.7165, device='cuda:0') CV Acc:  tensor(0.9476, device='cuda:0')\n",
            "Epoch  45  Training Loss:  tensor(2.1535, device='cuda:0', grad_fn=<DivBackward0>) CV Loss:  tensor(0.2293, device='cuda:0')\n",
            "Training Acc:  tensor(0.7142, device='cuda:0') CV Acc:  tensor(0.9476, device='cuda:0')\n",
            "Epoch  46  Training Loss:  tensor(2.1172, device='cuda:0', grad_fn=<DivBackward0>) CV Loss:  tensor(0.2291, device='cuda:0')\n",
            "Training Acc:  tensor(0.7187, device='cuda:0') CV Acc:  tensor(0.9475, device='cuda:0')\n",
            "Epoch  47  Training Loss:  tensor(2.1546, device='cuda:0', grad_fn=<DivBackward0>) CV Loss:  tensor(0.2275, device='cuda:0')\n",
            "Training Acc:  tensor(0.7142, device='cuda:0') CV Acc:  tensor(0.9479, device='cuda:0')\n",
            "Epoch  48  Training Loss:  tensor(2.1508, device='cuda:0', grad_fn=<DivBackward0>) CV Loss:  tensor(0.2310, device='cuda:0')\n",
            "Training Acc:  tensor(0.7134, device='cuda:0') CV Acc:  tensor(0.9478, device='cuda:0')\n",
            "Epoch  49  Training Loss:  tensor(2.1253, device='cuda:0', grad_fn=<DivBackward0>) CV Loss:  tensor(0.2289, device='cuda:0')\n",
            "Training Acc:  tensor(0.7172, device='cuda:0') CV Acc:  tensor(0.9474, device='cuda:0')\n",
            "Epoch  50  Training Loss:  tensor(2.1029, device='cuda:0', grad_fn=<DivBackward0>) CV Loss:  tensor(0.2286, device='cuda:0')\n",
            "Training Acc:  tensor(0.7191, device='cuda:0') CV Acc:  tensor(0.9474, device='cuda:0')\n",
            "Epoch  51  Training Loss:  tensor(2.1225, device='cuda:0', grad_fn=<DivBackward0>) CV Loss:  tensor(0.2280, device='cuda:0')\n",
            "Training Acc:  tensor(0.7176, device='cuda:0') CV Acc:  tensor(0.9478, device='cuda:0')\n",
            "Epoch  52  Training Loss:  tensor(2.1402, device='cuda:0', grad_fn=<DivBackward0>) CV Loss:  tensor(0.2290, device='cuda:0')\n",
            "Training Acc:  tensor(0.7162, device='cuda:0') CV Acc:  tensor(0.9477, device='cuda:0')\n",
            "Epoch  53  Training Loss:  tensor(2.1484, device='cuda:0', grad_fn=<DivBackward0>) CV Loss:  tensor(0.2294, device='cuda:0')\n",
            "Training Acc:  tensor(0.7139, device='cuda:0') CV Acc:  tensor(0.9479, device='cuda:0')\n",
            "Epoch  54  Training Loss:  tensor(2.1452, device='cuda:0', grad_fn=<DivBackward0>) CV Loss:  tensor(0.2282, device='cuda:0')\n",
            "Training Acc:  tensor(0.7150, device='cuda:0') CV Acc:  tensor(0.9478, device='cuda:0')\n",
            "Epoch  55  Training Loss:  tensor(2.1494, device='cuda:0', grad_fn=<DivBackward0>) CV Loss:  tensor(0.2270, device='cuda:0')\n",
            "Training Acc:  tensor(0.7147, device='cuda:0') CV Acc:  tensor(0.9477, device='cuda:0')\n",
            "Epoch  56  Training Loss:  tensor(2.1156, device='cuda:0', grad_fn=<DivBackward0>) CV Loss:  tensor(0.2295, device='cuda:0')\n",
            "Training Acc:  tensor(0.7173, device='cuda:0') CV Acc:  tensor(0.9477, device='cuda:0')\n",
            "Epoch  57  Training Loss:  tensor(2.1289, device='cuda:0', grad_fn=<DivBackward0>) CV Loss:  tensor(0.2289, device='cuda:0')\n",
            "Training Acc:  tensor(0.7182, device='cuda:0') CV Acc:  tensor(0.9476, device='cuda:0')\n",
            "Epoch  58  Training Loss:  tensor(2.1132, device='cuda:0', grad_fn=<DivBackward0>) CV Loss:  tensor(0.2282, device='cuda:0')\n",
            "Training Acc:  tensor(0.7188, device='cuda:0') CV Acc:  tensor(0.9475, device='cuda:0')\n",
            "Epoch  59  Training Loss:  tensor(2.1369, device='cuda:0', grad_fn=<DivBackward0>) CV Loss:  tensor(0.2309, device='cuda:0')\n",
            "Training Acc:  tensor(0.7157, device='cuda:0') CV Acc:  tensor(0.9478, device='cuda:0')\n",
            "Epoch  60  Training Loss:  tensor(2.1215, device='cuda:0', grad_fn=<DivBackward0>) CV Loss:  tensor(0.2285, device='cuda:0')\n",
            "Training Acc:  tensor(0.7177, device='cuda:0') CV Acc:  tensor(0.9476, device='cuda:0')\n",
            "Epoch  61  Training Loss:  tensor(2.1159, device='cuda:0', grad_fn=<DivBackward0>) CV Loss:  tensor(0.2303, device='cuda:0')\n",
            "Training Acc:  tensor(0.7180, device='cuda:0') CV Acc:  tensor(0.9477, device='cuda:0')\n",
            "Epoch  62  Training Loss:  tensor(2.1378, device='cuda:0', grad_fn=<DivBackward0>) CV Loss:  tensor(0.2297, device='cuda:0')\n",
            "Training Acc:  tensor(0.7155, device='cuda:0') CV Acc:  tensor(0.9477, device='cuda:0')\n",
            "Epoch  63  Training Loss:  tensor(2.1622, device='cuda:0', grad_fn=<DivBackward0>) CV Loss:  tensor(0.2303, device='cuda:0')\n",
            "Training Acc:  tensor(0.7135, device='cuda:0') CV Acc:  tensor(0.9478, device='cuda:0')\n",
            "Epoch  64  Training Loss:  tensor(2.1259, device='cuda:0', grad_fn=<DivBackward0>) CV Loss:  tensor(0.2297, device='cuda:0')\n",
            "Training Acc:  tensor(0.7170, device='cuda:0') CV Acc:  tensor(0.9479, device='cuda:0')\n",
            "Epoch  65  Training Loss:  tensor(2.1326, device='cuda:0', grad_fn=<DivBackward0>) CV Loss:  tensor(0.2292, device='cuda:0')\n",
            "Training Acc:  tensor(0.7164, device='cuda:0') CV Acc:  tensor(0.9477, device='cuda:0')\n",
            "Epoch  66  Training Loss:  tensor(2.1079, device='cuda:0', grad_fn=<DivBackward0>) CV Loss:  tensor(0.2279, device='cuda:0')\n",
            "Training Acc:  tensor(0.7185, device='cuda:0') CV Acc:  tensor(0.9478, device='cuda:0')\n",
            "Epoch  67  Training Loss:  tensor(2.1533, device='cuda:0', grad_fn=<DivBackward0>) CV Loss:  tensor(0.2291, device='cuda:0')\n",
            "Training Acc:  tensor(0.7134, device='cuda:0') CV Acc:  tensor(0.9479, device='cuda:0')\n",
            "Epoch  68  Training Loss:  tensor(2.1496, device='cuda:0', grad_fn=<DivBackward0>) CV Loss:  tensor(0.2286, device='cuda:0')\n",
            "Training Acc:  tensor(0.7146, device='cuda:0') CV Acc:  tensor(0.9475, device='cuda:0')\n",
            "Epoch  69  Training Loss:  tensor(2.1173, device='cuda:0', grad_fn=<DivBackward0>) CV Loss:  tensor(0.2298, device='cuda:0')\n",
            "Training Acc:  tensor(0.7184, device='cuda:0') CV Acc:  tensor(0.9477, device='cuda:0')\n",
            "Epoch  70  Training Loss:  tensor(2.1447, device='cuda:0', grad_fn=<DivBackward0>) CV Loss:  tensor(0.2295, device='cuda:0')\n",
            "Training Acc:  tensor(0.7151, device='cuda:0') CV Acc:  tensor(0.9476, device='cuda:0')\n",
            "Epoch  71  Training Loss:  tensor(2.1582, device='cuda:0', grad_fn=<DivBackward0>) CV Loss:  tensor(0.2314, device='cuda:0')\n",
            "Training Acc:  tensor(0.7137, device='cuda:0') CV Acc:  tensor(0.9476, device='cuda:0')\n",
            "Epoch  72  Training Loss:  tensor(2.1086, device='cuda:0', grad_fn=<DivBackward0>) CV Loss:  tensor(0.2304, device='cuda:0')\n",
            "Training Acc:  tensor(0.7198, device='cuda:0') CV Acc:  tensor(0.9476, device='cuda:0')\n",
            "Epoch  73  Training Loss:  tensor(2.1255, device='cuda:0', grad_fn=<DivBackward0>) CV Loss:  tensor(0.2301, device='cuda:0')\n",
            "Training Acc:  tensor(0.7171, device='cuda:0') CV Acc:  tensor(0.9476, device='cuda:0')\n",
            "Epoch  74  Training Loss:  tensor(2.1421, device='cuda:0', grad_fn=<DivBackward0>) CV Loss:  tensor(0.2293, device='cuda:0')\n",
            "Training Acc:  tensor(0.7149, device='cuda:0') CV Acc:  tensor(0.9476, device='cuda:0')\n",
            "Epoch  75  Training Loss:  tensor(2.1232, device='cuda:0', grad_fn=<DivBackward0>) CV Loss:  tensor(0.2297, device='cuda:0')\n",
            "Training Acc:  tensor(0.7175, device='cuda:0') CV Acc:  tensor(0.9478, device='cuda:0')\n",
            "Epoch  76  Training Loss:  tensor(2.1205, device='cuda:0', grad_fn=<DivBackward0>) CV Loss:  tensor(0.2269, device='cuda:0')\n",
            "Training Acc:  tensor(0.7179, device='cuda:0') CV Acc:  tensor(0.9481, device='cuda:0')\n",
            "Epoch  77  Training Loss:  tensor(2.1516, device='cuda:0', grad_fn=<DivBackward0>) CV Loss:  tensor(0.2306, device='cuda:0')\n",
            "Training Acc:  tensor(0.7148, device='cuda:0') CV Acc:  tensor(0.9476, device='cuda:0')\n",
            "Epoch  78  Training Loss:  tensor(2.1392, device='cuda:0', grad_fn=<DivBackward0>) CV Loss:  tensor(0.2297, device='cuda:0')\n",
            "Training Acc:  tensor(0.7164, device='cuda:0') CV Acc:  tensor(0.9474, device='cuda:0')\n",
            "Epoch  79  Training Loss:  tensor(2.1352, device='cuda:0', grad_fn=<DivBackward0>) CV Loss:  tensor(0.2293, device='cuda:0')\n",
            "Training Acc:  tensor(0.7152, device='cuda:0') CV Acc:  tensor(0.9474, device='cuda:0')\n",
            "Epoch  80  Training Loss:  tensor(2.1209, device='cuda:0', grad_fn=<DivBackward0>) CV Loss:  tensor(0.2283, device='cuda:0')\n",
            "Training Acc:  tensor(0.7179, device='cuda:0') CV Acc:  tensor(0.9476, device='cuda:0')\n",
            "Epoch  81  Training Loss:  tensor(2.1404, device='cuda:0', grad_fn=<DivBackward0>) CV Loss:  tensor(0.2294, device='cuda:0')\n",
            "Training Acc:  tensor(0.7147, device='cuda:0') CV Acc:  tensor(0.9477, device='cuda:0')\n",
            "Epoch  82  Training Loss:  tensor(2.1107, device='cuda:0', grad_fn=<DivBackward0>) CV Loss:  tensor(0.2305, device='cuda:0')\n",
            "Training Acc:  tensor(0.7187, device='cuda:0') CV Acc:  tensor(0.9475, device='cuda:0')\n",
            "Epoch  83  Training Loss:  tensor(2.1501, device='cuda:0', grad_fn=<DivBackward0>) CV Loss:  tensor(0.2302, device='cuda:0')\n",
            "Training Acc:  tensor(0.7147, device='cuda:0') CV Acc:  tensor(0.9475, device='cuda:0')\n",
            "Epoch  84  Training Loss:  tensor(2.1458, device='cuda:0', grad_fn=<DivBackward0>) CV Loss:  tensor(0.2294, device='cuda:0')\n",
            "Training Acc:  tensor(0.7152, device='cuda:0') CV Acc:  tensor(0.9478, device='cuda:0')\n",
            "Epoch  85  Training Loss:  tensor(2.1744, device='cuda:0', grad_fn=<DivBackward0>) CV Loss:  tensor(0.2312, device='cuda:0')\n",
            "Training Acc:  tensor(0.7115, device='cuda:0') CV Acc:  tensor(0.9479, device='cuda:0')\n",
            "Epoch  86  Training Loss:  tensor(2.1354, device='cuda:0', grad_fn=<DivBackward0>) CV Loss:  tensor(0.2300, device='cuda:0')\n",
            "Training Acc:  tensor(0.7163, device='cuda:0') CV Acc:  tensor(0.9476, device='cuda:0')\n",
            "Epoch  87  Training Loss:  tensor(2.1133, device='cuda:0', grad_fn=<DivBackward0>) CV Loss:  tensor(0.2283, device='cuda:0')\n",
            "Training Acc:  tensor(0.7199, device='cuda:0') CV Acc:  tensor(0.9479, device='cuda:0')\n",
            "Epoch  88  Training Loss:  tensor(2.1207, device='cuda:0', grad_fn=<DivBackward0>) CV Loss:  tensor(0.2294, device='cuda:0')\n",
            "Training Acc:  tensor(0.7179, device='cuda:0') CV Acc:  tensor(0.9477, device='cuda:0')\n",
            "Epoch  89  Training Loss:  tensor(2.1233, device='cuda:0', grad_fn=<DivBackward0>) CV Loss:  tensor(0.2287, device='cuda:0')\n",
            "Training Acc:  tensor(0.7185, device='cuda:0') CV Acc:  tensor(0.9477, device='cuda:0')\n",
            "Epoch  90  Training Loss:  tensor(2.1211, device='cuda:0', grad_fn=<DivBackward0>) CV Loss:  tensor(0.2287, device='cuda:0')\n",
            "Training Acc:  tensor(0.7173, device='cuda:0') CV Acc:  tensor(0.9477, device='cuda:0')\n",
            "Epoch  91  Training Loss:  tensor(2.1400, device='cuda:0', grad_fn=<DivBackward0>) CV Loss:  tensor(0.2302, device='cuda:0')\n",
            "Training Acc:  tensor(0.7152, device='cuda:0') CV Acc:  tensor(0.9477, device='cuda:0')\n",
            "Epoch  92  Training Loss:  tensor(2.1226, device='cuda:0', grad_fn=<DivBackward0>) CV Loss:  tensor(0.2299, device='cuda:0')\n",
            "Training Acc:  tensor(0.7170, device='cuda:0') CV Acc:  tensor(0.9476, device='cuda:0')\n",
            "Epoch  93  Training Loss:  tensor(2.1471, device='cuda:0', grad_fn=<DivBackward0>) CV Loss:  tensor(0.2292, device='cuda:0')\n",
            "Training Acc:  tensor(0.7145, device='cuda:0') CV Acc:  tensor(0.9480, device='cuda:0')\n",
            "Epoch  94  Training Loss:  tensor(2.1441, device='cuda:0', grad_fn=<DivBackward0>) CV Loss:  tensor(0.2291, device='cuda:0')\n",
            "Training Acc:  tensor(0.7149, device='cuda:0') CV Acc:  tensor(0.9474, device='cuda:0')\n",
            "Epoch  95  Training Loss:  tensor(2.1500, device='cuda:0', grad_fn=<DivBackward0>) CV Loss:  tensor(0.2287, device='cuda:0')\n",
            "Training Acc:  tensor(0.7147, device='cuda:0') CV Acc:  tensor(0.9476, device='cuda:0')\n",
            "Epoch  96  Training Loss:  tensor(2.1397, device='cuda:0', grad_fn=<DivBackward0>) CV Loss:  tensor(0.2294, device='cuda:0')\n",
            "Training Acc:  tensor(0.7154, device='cuda:0') CV Acc:  tensor(0.9474, device='cuda:0')\n",
            "Epoch  97  Training Loss:  tensor(2.1557, device='cuda:0', grad_fn=<DivBackward0>) CV Loss:  tensor(0.2283, device='cuda:0')\n",
            "Training Acc:  tensor(0.7125, device='cuda:0') CV Acc:  tensor(0.9477, device='cuda:0')\n",
            "Epoch  98  Training Loss:  tensor(2.1034, device='cuda:0', grad_fn=<DivBackward0>) CV Loss:  tensor(0.2290, device='cuda:0')\n",
            "Training Acc:  tensor(0.7206, device='cuda:0') CV Acc:  tensor(0.9477, device='cuda:0')\n",
            "Epoch  99  Training Loss:  tensor(2.1280, device='cuda:0', grad_fn=<DivBackward0>) CV Loss:  tensor(0.2294, device='cuda:0')\n",
            "Training Acc:  tensor(0.7170, device='cuda:0') CV Acc:  tensor(0.9477, device='cuda:0')\n",
            "Epoch  100  Training Loss:  tensor(2.1236, device='cuda:0', grad_fn=<DivBackward0>) CV Loss:  tensor(0.2292, device='cuda:0')\n",
            "Training Acc:  tensor(0.7182, device='cuda:0') CV Acc:  tensor(0.9477, device='cuda:0')\n",
            "Epoch  101  Training Loss:  tensor(2.1529, device='cuda:0', grad_fn=<DivBackward0>) CV Loss:  tensor(0.2295, device='cuda:0')\n",
            "Training Acc:  tensor(0.7141, device='cuda:0') CV Acc:  tensor(0.9480, device='cuda:0')\n",
            "Epoch  102  Training Loss:  tensor(2.1299, device='cuda:0', grad_fn=<DivBackward0>) CV Loss:  tensor(0.2288, device='cuda:0')\n",
            "Training Acc:  tensor(0.7174, device='cuda:0') CV Acc:  tensor(0.9476, device='cuda:0')\n",
            "Epoch  103  Training Loss:  tensor(2.1609, device='cuda:0', grad_fn=<DivBackward0>) CV Loss:  tensor(0.2286, device='cuda:0')\n",
            "Training Acc:  tensor(0.7135, device='cuda:0') CV Acc:  tensor(0.9474, device='cuda:0')\n",
            "Epoch  104  Training Loss:  tensor(2.1384, device='cuda:0', grad_fn=<DivBackward0>) CV Loss:  tensor(0.2301, device='cuda:0')\n",
            "Training Acc:  tensor(0.7155, device='cuda:0') CV Acc:  tensor(0.9477, device='cuda:0')\n",
            "Epoch  105  Training Loss:  tensor(2.1385, device='cuda:0', grad_fn=<DivBackward0>) CV Loss:  tensor(0.2284, device='cuda:0')\n",
            "Training Acc:  tensor(0.7154, device='cuda:0') CV Acc:  tensor(0.9479, device='cuda:0')\n",
            "Epoch  106  Training Loss:  tensor(2.1440, device='cuda:0', grad_fn=<DivBackward0>) CV Loss:  tensor(0.2296, device='cuda:0')\n",
            "Training Acc:  tensor(0.7157, device='cuda:0') CV Acc:  tensor(0.9476, device='cuda:0')\n",
            "Epoch  107  Training Loss:  tensor(2.1328, device='cuda:0', grad_fn=<DivBackward0>) CV Loss:  tensor(0.2274, device='cuda:0')\n",
            "Training Acc:  tensor(0.7163, device='cuda:0') CV Acc:  tensor(0.9480, device='cuda:0')\n",
            "Epoch  108  Training Loss:  tensor(2.1755, device='cuda:0', grad_fn=<DivBackward0>) CV Loss:  tensor(0.2282, device='cuda:0')\n",
            "Training Acc:  tensor(0.7117, device='cuda:0') CV Acc:  tensor(0.9476, device='cuda:0')\n",
            "Epoch  109  Training Loss:  tensor(2.1398, device='cuda:0', grad_fn=<DivBackward0>) CV Loss:  tensor(0.2319, device='cuda:0')\n",
            "Training Acc:  tensor(0.7169, device='cuda:0') CV Acc:  tensor(0.9479, device='cuda:0')\n",
            "Epoch  110  Training Loss:  tensor(2.1462, device='cuda:0', grad_fn=<DivBackward0>) CV Loss:  tensor(0.2299, device='cuda:0')\n",
            "Training Acc:  tensor(0.7144, device='cuda:0') CV Acc:  tensor(0.9481, device='cuda:0')\n",
            "Epoch  111  Training Loss:  tensor(2.1378, device='cuda:0', grad_fn=<DivBackward0>) CV Loss:  tensor(0.2280, device='cuda:0')\n",
            "Training Acc:  tensor(0.7150, device='cuda:0') CV Acc:  tensor(0.9476, device='cuda:0')\n",
            "Epoch  112  Training Loss:  tensor(2.1101, device='cuda:0', grad_fn=<DivBackward0>) CV Loss:  tensor(0.2285, device='cuda:0')\n",
            "Training Acc:  tensor(0.7191, device='cuda:0') CV Acc:  tensor(0.9475, device='cuda:0')\n",
            "Epoch  113  Training Loss:  tensor(2.1391, device='cuda:0', grad_fn=<DivBackward0>) CV Loss:  tensor(0.2303, device='cuda:0')\n",
            "Training Acc:  tensor(0.7156, device='cuda:0') CV Acc:  tensor(0.9476, device='cuda:0')\n",
            "Epoch  114  Training Loss:  tensor(2.1461, device='cuda:0', grad_fn=<DivBackward0>) CV Loss:  tensor(0.2295, device='cuda:0')\n",
            "Training Acc:  tensor(0.7156, device='cuda:0') CV Acc:  tensor(0.9476, device='cuda:0')\n",
            "Epoch  115  Training Loss:  tensor(2.1649, device='cuda:0', grad_fn=<DivBackward0>) CV Loss:  tensor(0.2286, device='cuda:0')\n",
            "Training Acc:  tensor(0.7126, device='cuda:0') CV Acc:  tensor(0.9478, device='cuda:0')\n",
            "Epoch  116  Training Loss:  tensor(2.1070, device='cuda:0', grad_fn=<DivBackward0>) CV Loss:  tensor(0.2304, device='cuda:0')\n",
            "Training Acc:  tensor(0.7206, device='cuda:0') CV Acc:  tensor(0.9476, device='cuda:0')\n",
            "Epoch  117  Training Loss:  tensor(2.1391, device='cuda:0', grad_fn=<DivBackward0>) CV Loss:  tensor(0.2291, device='cuda:0')\n",
            "Training Acc:  tensor(0.7153, device='cuda:0') CV Acc:  tensor(0.9476, device='cuda:0')\n",
            "Epoch  118  Training Loss:  tensor(2.1072, device='cuda:0', grad_fn=<DivBackward0>) CV Loss:  tensor(0.2284, device='cuda:0')\n",
            "Training Acc:  tensor(0.7193, device='cuda:0') CV Acc:  tensor(0.9473, device='cuda:0')\n",
            "Epoch  119  Training Loss:  tensor(2.1653, device='cuda:0', grad_fn=<DivBackward0>) CV Loss:  tensor(0.2296, device='cuda:0')\n",
            "Training Acc:  tensor(0.7134, device='cuda:0') CV Acc:  tensor(0.9477, device='cuda:0')\n",
            "Epoch  120  Training Loss:  tensor(2.1605, device='cuda:0', grad_fn=<DivBackward0>) CV Loss:  tensor(0.2302, device='cuda:0')\n",
            "Training Acc:  tensor(0.7140, device='cuda:0') CV Acc:  tensor(0.9476, device='cuda:0')\n",
            "Epoch  121  Training Loss:  tensor(2.1489, device='cuda:0', grad_fn=<DivBackward0>) CV Loss:  tensor(0.2309, device='cuda:0')\n",
            "Training Acc:  tensor(0.7151, device='cuda:0') CV Acc:  tensor(0.9478, device='cuda:0')\n",
            "Epoch  122  Training Loss:  tensor(2.1412, device='cuda:0', grad_fn=<DivBackward0>) CV Loss:  tensor(0.2313, device='cuda:0')\n",
            "Training Acc:  tensor(0.7162, device='cuda:0') CV Acc:  tensor(0.9479, device='cuda:0')\n",
            "Epoch  123  Training Loss:  tensor(2.1169, device='cuda:0', grad_fn=<DivBackward0>) CV Loss:  tensor(0.2266, device='cuda:0')\n",
            "Training Acc:  tensor(0.7187, device='cuda:0') CV Acc:  tensor(0.9477, device='cuda:0')\n",
            "Epoch  124  Training Loss:  tensor(2.1214, device='cuda:0', grad_fn=<DivBackward0>) CV Loss:  tensor(0.2297, device='cuda:0')\n",
            "Training Acc:  tensor(0.7177, device='cuda:0') CV Acc:  tensor(0.9476, device='cuda:0')\n",
            "Epoch  125  Training Loss:  tensor(2.1350, device='cuda:0', grad_fn=<DivBackward0>) CV Loss:  tensor(0.2311, device='cuda:0')\n",
            "Training Acc:  tensor(0.7162, device='cuda:0') CV Acc:  tensor(0.9479, device='cuda:0')\n",
            "Epoch  126  Training Loss:  tensor(2.1660, device='cuda:0', grad_fn=<DivBackward0>) CV Loss:  tensor(0.2283, device='cuda:0')\n",
            "Training Acc:  tensor(0.7138, device='cuda:0') CV Acc:  tensor(0.9477, device='cuda:0')\n",
            "Epoch  127  Training Loss:  tensor(2.1333, device='cuda:0', grad_fn=<DivBackward0>) CV Loss:  tensor(0.2293, device='cuda:0')\n",
            "Training Acc:  tensor(0.7172, device='cuda:0') CV Acc:  tensor(0.9474, device='cuda:0')\n",
            "Epoch  128  Training Loss:  tensor(2.1260, device='cuda:0', grad_fn=<DivBackward0>) CV Loss:  tensor(0.2303, device='cuda:0')\n",
            "Training Acc:  tensor(0.7175, device='cuda:0') CV Acc:  tensor(0.9480, device='cuda:0')\n",
            "Epoch  129  Training Loss:  tensor(2.0870, device='cuda:0', grad_fn=<DivBackward0>) CV Loss:  tensor(0.2293, device='cuda:0')\n",
            "Training Acc:  tensor(0.7224, device='cuda:0') CV Acc:  tensor(0.9478, device='cuda:0')\n",
            "Epoch  130  Training Loss:  tensor(2.1285, device='cuda:0', grad_fn=<DivBackward0>) CV Loss:  tensor(0.2276, device='cuda:0')\n",
            "Training Acc:  tensor(0.7175, device='cuda:0') CV Acc:  tensor(0.9473, device='cuda:0')\n",
            "Epoch  131  Training Loss:  tensor(2.1565, device='cuda:0', grad_fn=<DivBackward0>) CV Loss:  tensor(0.2288, device='cuda:0')\n",
            "Training Acc:  tensor(0.7129, device='cuda:0') CV Acc:  tensor(0.9479, device='cuda:0')\n",
            "Epoch  132  Training Loss:  tensor(2.1426, device='cuda:0', grad_fn=<DivBackward0>) CV Loss:  tensor(0.2288, device='cuda:0')\n",
            "Training Acc:  tensor(0.7159, device='cuda:0') CV Acc:  tensor(0.9480, device='cuda:0')\n",
            "Epoch  133  Training Loss:  tensor(2.1676, device='cuda:0', grad_fn=<DivBackward0>) CV Loss:  tensor(0.2298, device='cuda:0')\n",
            "Training Acc:  tensor(0.7123, device='cuda:0') CV Acc:  tensor(0.9479, device='cuda:0')\n",
            "Epoch  134  Training Loss:  tensor(2.1328, device='cuda:0', grad_fn=<DivBackward0>) CV Loss:  tensor(0.2272, device='cuda:0')\n",
            "Training Acc:  tensor(0.7161, device='cuda:0') CV Acc:  tensor(0.9475, device='cuda:0')\n",
            "Epoch  135  Training Loss:  tensor(2.1451, device='cuda:0', grad_fn=<DivBackward0>) CV Loss:  tensor(0.2287, device='cuda:0')\n",
            "Training Acc:  tensor(0.7144, device='cuda:0') CV Acc:  tensor(0.9477, device='cuda:0')\n",
            "Epoch  136  Training Loss:  tensor(2.1606, device='cuda:0', grad_fn=<DivBackward0>) CV Loss:  tensor(0.2280, device='cuda:0')\n",
            "Training Acc:  tensor(0.7126, device='cuda:0') CV Acc:  tensor(0.9475, device='cuda:0')\n",
            "Epoch  137  Training Loss:  tensor(2.1408, device='cuda:0', grad_fn=<DivBackward0>) CV Loss:  tensor(0.2305, device='cuda:0')\n",
            "Training Acc:  tensor(0.7151, device='cuda:0') CV Acc:  tensor(0.9480, device='cuda:0')\n",
            "Epoch  138  Training Loss:  tensor(2.1499, device='cuda:0', grad_fn=<DivBackward0>) CV Loss:  tensor(0.2286, device='cuda:0')\n",
            "Training Acc:  tensor(0.7146, device='cuda:0') CV Acc:  tensor(0.9474, device='cuda:0')\n",
            "Epoch  139  Training Loss:  tensor(2.1574, device='cuda:0', grad_fn=<DivBackward0>) CV Loss:  tensor(0.2298, device='cuda:0')\n",
            "Training Acc:  tensor(0.7132, device='cuda:0') CV Acc:  tensor(0.9477, device='cuda:0')\n",
            "Epoch  140  Training Loss:  tensor(2.1292, device='cuda:0', grad_fn=<DivBackward0>) CV Loss:  tensor(0.2289, device='cuda:0')\n",
            "Training Acc:  tensor(0.7165, device='cuda:0') CV Acc:  tensor(0.9477, device='cuda:0')\n",
            "Epoch  141  Training Loss:  tensor(2.1406, device='cuda:0', grad_fn=<DivBackward0>) CV Loss:  tensor(0.2285, device='cuda:0')\n",
            "Training Acc:  tensor(0.7152, device='cuda:0') CV Acc:  tensor(0.9476, device='cuda:0')\n",
            "Epoch  142  Training Loss:  tensor(2.1542, device='cuda:0', grad_fn=<DivBackward0>) CV Loss:  tensor(0.2292, device='cuda:0')\n",
            "Training Acc:  tensor(0.7147, device='cuda:0') CV Acc:  tensor(0.9479, device='cuda:0')\n",
            "Epoch  143  Training Loss:  tensor(2.1281, device='cuda:0', grad_fn=<DivBackward0>) CV Loss:  tensor(0.2299, device='cuda:0')\n",
            "Training Acc:  tensor(0.7180, device='cuda:0') CV Acc:  tensor(0.9479, device='cuda:0')\n",
            "Epoch  144  Training Loss:  tensor(2.1601, device='cuda:0', grad_fn=<DivBackward0>) CV Loss:  tensor(0.2273, device='cuda:0')\n",
            "Training Acc:  tensor(0.7138, device='cuda:0') CV Acc:  tensor(0.9477, device='cuda:0')\n",
            "Epoch  145  Training Loss:  tensor(2.1351, device='cuda:0', grad_fn=<DivBackward0>) CV Loss:  tensor(0.2296, device='cuda:0')\n",
            "Training Acc:  tensor(0.7162, device='cuda:0') CV Acc:  tensor(0.9477, device='cuda:0')\n",
            "Epoch  146  Training Loss:  tensor(2.1259, device='cuda:0', grad_fn=<DivBackward0>) CV Loss:  tensor(0.2289, device='cuda:0')\n",
            "Training Acc:  tensor(0.7179, device='cuda:0') CV Acc:  tensor(0.9477, device='cuda:0')\n",
            "Epoch  147  Training Loss:  tensor(2.1372, device='cuda:0', grad_fn=<DivBackward0>) CV Loss:  tensor(0.2287, device='cuda:0')\n",
            "Training Acc:  tensor(0.7158, device='cuda:0') CV Acc:  tensor(0.9479, device='cuda:0')\n",
            "Epoch  148  Training Loss:  tensor(2.1376, device='cuda:0', grad_fn=<DivBackward0>) CV Loss:  tensor(0.2301, device='cuda:0')\n",
            "Training Acc:  tensor(0.7162, device='cuda:0') CV Acc:  tensor(0.9475, device='cuda:0')\n",
            "Epoch  149  Training Loss:  tensor(2.1434, device='cuda:0', grad_fn=<DivBackward0>) CV Loss:  tensor(0.2286, device='cuda:0')\n",
            "Training Acc:  tensor(0.7160, device='cuda:0') CV Acc:  tensor(0.9480, device='cuda:0')\n"
          ],
          "name": "stdout"
        }
      ]
    }
  ]
}